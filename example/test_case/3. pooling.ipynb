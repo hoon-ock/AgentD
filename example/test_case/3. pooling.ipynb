{
 "cells": [
  {
   "cell_type": "code",
   "execution_count": 1,
   "metadata": {},
   "outputs": [
    {
     "name": "stdout",
     "output_type": "stream",
     "text": [
      "Current working directory: /home/hoon/dd-agent/llm_dd/examples/testrun\n",
      "Home directory: /home/hoon/dd-agent/llm_dd\n"
     ]
    }
   ],
   "source": [
    "import os, sys\n",
    "cwd = os.getcwd()\n",
    "print(\"Current working directory:\", cwd)\n",
    "home_dir = os.path.dirname(os.path.dirname(cwd))\n",
    "print(\"Home directory:\", home_dir)\n",
    "sys.path.append(home_dir)"
   ]
  },
  {
   "cell_type": "code",
   "execution_count": 2,
   "metadata": {},
   "outputs": [],
   "source": [
    "import json\n",
    "from agentD.agents import agentD\n",
    "from agentD.utils import get_tool_decorated_functions, custom_serializer\n",
    "from agentD.prompts.smiles_generation import PREFIX, SUFFIX, FORMAT_INSTRUCTIONS"
   ]
  },
  {
   "cell_type": "code",
   "execution_count": 3,
   "metadata": {},
   "outputs": [],
   "source": [
    "tools = get_tool_decorated_functions(os.path.join(home_dir, \"agentD/tools/generation.py\"))\n",
    "tool_names = [tool.name for tool in tools]  \n",
    "tool_desc = [tool.description for tool in tools]"
   ]
  },
  {
   "cell_type": "markdown",
   "metadata": {},
   "source": [
    "# Initial Pool"
   ]
  },
  {
   "cell_type": "code",
   "execution_count": 4,
   "metadata": {},
   "outputs": [
    {
     "name": "stderr",
     "output_type": "stream",
     "text": [
      "`embedding_function` is expected to be an Embeddings object, support for passing in a function will soon be removed.\n"
     ]
    },
    {
     "name": "stdout",
     "output_type": "stream",
     "text": [
      "Initial SMILES: CC1(C)CCC(CN2CCN(c3ccc(C(=O)NS(=O)(=O)c4ccc(NCC5CCOCC5)c([N+](=O)[O-])c4)c(Oc4cnc5[nH]ccc5c4)c3)CC2)=C(c2ccc(Cl)cc2)C1\n"
     ]
    }
   ],
   "source": [
    "with open(\"extraction.json\", 'r') as f:\n",
    "    data = json.load(f)\n",
    "initial_smiles = data.get(\"SMILES\", \"\")\n",
    "print(\"Initial SMILES:\", initial_smiles)\n",
    "Human_prompt = f\"Create a pool of drug-like molecules based on the existing drug molecule, {initial_smiles}.\"\n",
    "\n",
    "input_data = {\n",
    "            \"input\": Human_prompt,\n",
    "            \"tools\": tools,\n",
    "            \"tool_names\": tool_names,\n",
    "            \"tool_desc\": tool_desc\n",
    "        }\n",
    "\n",
    "smiles_agent = agentD(tools, \n",
    "                      model=\"gpt-4o\",\n",
    "                      prefix=PREFIX, \n",
    "                      suffix=SUFFIX,\n",
    "                      format_instructions=FORMAT_INSTRUCTIONS).agent"
   ]
  },
  {
   "cell_type": "code",
   "execution_count": 5,
   "metadata": {},
   "outputs": [
    {
     "name": "stdout",
     "output_type": "stream",
     "text": [
      "\n",
      "\n",
      "\u001b[1m> Entering new AgentExecutor chain...\u001b[0m\n",
      "\u001b[32;1m\u001b[1;3mI need to generate a pool of drug-like molecules based on the provided SMILES string using the REINVENT framework. To achieve this, I will follow these steps:\n",
      "\n",
      "1. Prepare a REINVENT configuration file for the \"Mol2Mol\" model type and save the SMILES string to a file.\n",
      "2. Prepare a REINVENT configuration file for the \"Reinvent\" model type.\n",
      "3. Execute REINVENT using both configuration files to generate the pool of candidate molecules.\n",
      "\n",
      "Let's begin by saving the SMILES string for the \"Mol2Mol\" model type.\n",
      "\n",
      "Action: save_smi_for_mol2mol\n",
      "Action Input: CC1(C)CCC(CN2CCN(c3ccc(C(=O)NS(=O)(=O)c4ccc(NCC5CCOCC5)c([N+](=O)[O-])c4)c(Oc4cnc5[nH]ccc5c4)c3)CC2)=C(c2ccc(Cl)cc2)C1\u001b[0mSMILES saved to configs/mol2mol.smi\n",
      "\n",
      "Observation: \u001b[33;1m\u001b[1;3msmi file updated with the smiles at 'configs/mol2mol.smi'\u001b[0m\n",
      "Thought:\u001b[32;1m\u001b[1;3mNow that the SMILES string has been saved for the \"Mol2Mol\" model type, I will proceed to update the REINVENT configuration file for the \"Mol2Mol\" model type.\n",
      "\n",
      "Action: update_reinvent_config\n",
      "Action Input: Mol2Mol\u001b[0mUpdated TOML file saved to: configs/Mol2Mol.toml\n",
      "\n",
      "Observation: \u001b[36;1m\u001b[1;3mconfigs/Mol2Mol.toml\u001b[0m\n",
      "Thought:\u001b[32;1m\u001b[1;3mNow that I have the updated configuration file for the \"Mol2Mol\" model type, I will proceed to update the REINVENT configuration file for the \"Reinvent\" model type.\n",
      "\n",
      "Action: update_reinvent_config\n",
      "Action Input: Reinvent\u001b[0mUpdated TOML file saved to: configs/Reinvent.toml\n",
      "\n",
      "Observation: \u001b[36;1m\u001b[1;3mconfigs/Reinvent.toml\u001b[0m\n",
      "Thought:\u001b[32;1m\u001b[1;3mNow that I have both updated configuration files for the \"Mol2Mol\" and \"Reinvent\" model types, I will proceed to execute REINVENT using these configuration files to generate the pool of candidate molecules.\n",
      "\n",
      "Action: run_reinvent\n",
      "Action Input: configs/Mol2Mol.toml\u001b[0m\n",
      "Observation: \u001b[38;5;200m\u001b[1;3mREINVENT execution completed successfully.\u001b[0m\n",
      "Thought:\u001b[32;1m\u001b[1;3mAction: run_reinvent\n",
      "Action Input: configs/Reinvent.toml\u001b[0m\n",
      "Observation: \u001b[38;5;200m\u001b[1;3mREINVENT execution completed successfully.\u001b[0m\n",
      "Thought:\u001b[32;1m\u001b[1;3m'''\n",
      "Thought: Here's your final answer:\n",
      "Final Answer: The pool of drug-like molecules has been successfully generated using the REINVENT framework based on the provided SMILES string. Both the \"Mol2Mol\" and \"Reinvent\" model types were utilized to ensure a diverse set of candidate molecules.\n",
      "'''\u001b[0m\n",
      "\n",
      "\u001b[1m> Finished chain.\u001b[0m\n"
     ]
    }
   ],
   "source": [
    "response = smiles_agent.invoke(input_data)\n",
    "with open(\"response/pooling.json\", \"w\", encoding=\"utf-8\") as f:\n",
    "    json.dump(response, f, indent=2, default=custom_serializer)"
   ]
  }
 ],
 "metadata": {
  "kernelspec": {
   "display_name": "reinvent4",
   "language": "python",
   "name": "python3"
  },
  "language_info": {
   "codemirror_mode": {
    "name": "ipython",
    "version": 3
   },
   "file_extension": ".py",
   "mimetype": "text/x-python",
   "name": "python",
   "nbconvert_exporter": "python",
   "pygments_lexer": "ipython3",
   "version": "3.10.18"
  }
 },
 "nbformat": 4,
 "nbformat_minor": 2
}
