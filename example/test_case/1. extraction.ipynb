{
 "cells": [
  {
   "cell_type": "code",
   "execution_count": 1,
   "metadata": {},
   "outputs": [
    {
     "name": "stdout",
     "output_type": "stream",
     "text": [
      "Current working directory: /home/hoon/dd-agent/llm_dd/examples/testrun\n",
      "Home directory: /home/hoon/dd-agent/llm_dd\n"
     ]
    }
   ],
   "source": [
    "import os, sys\n",
    "cwd = os.getcwd()\n",
    "print(\"Current working directory:\", cwd)\n",
    "home_dir = os.path.dirname(os.path.dirname(cwd))\n",
    "print(\"Home directory:\", home_dir)\n",
    "sys.path.append(home_dir)"
   ]
  },
  {
   "cell_type": "code",
   "execution_count": 2,
   "metadata": {},
   "outputs": [],
   "source": [
    "import json\n",
    "from agentD.agents import agentD\n",
    "from agentD.utils import get_tool_decorated_functions, custom_serializer\n",
    "from agentD.prompts.data_extraction import PREFIX, SUFFIX, FORMAT_INSTRUCTIONS\n"
   ]
  },
  {
   "cell_type": "code",
   "execution_count": 3,
   "metadata": {},
   "outputs": [],
   "source": [
    "tools = get_tool_decorated_functions(os.path.join(home_dir, \"agentD/tools/retrieval.py\"))\n",
    "tool_names = [tool.name for tool in tools]  \n",
    "tool_desc = [tool.description for tool in tools]"
   ]
  },
  {
   "cell_type": "markdown",
   "metadata": {},
   "source": [
    "# Data Extraction"
   ]
  },
  {
   "cell_type": "code",
   "execution_count": 4,
   "metadata": {},
   "outputs": [
    {
     "name": "stderr",
     "output_type": "stream",
     "text": [
      "`embedding_function` is expected to be an Embeddings object, support for passing in a function will soon be removed.\n"
     ]
    }
   ],
   "source": [
    "protein = \"BCL-2\"\n",
    "diesease = \"Lymphocytic leukemia\"\n",
    "Human_prompt = f\"Retrieve the data for the disease {diesease} targeting the protein {protein}.\" \n",
    "\n",
    "input_data = {\n",
    "            \"input\": Human_prompt,\n",
    "            \"tools\": tools,\n",
    "            \"tool_names\": tool_names,\n",
    "            \"tool_desc\": tool_desc\n",
    "            }\n",
    "\n",
    "\n",
    "extraction_agent = agentD(tools, \n",
    "                          model=\"gpt-4o\",\n",
    "                          prefix=PREFIX, \n",
    "                          suffix=SUFFIX, \n",
    "                          format_instructions=FORMAT_INSTRUCTIONS).agent"
   ]
  },
  {
   "cell_type": "code",
   "execution_count": 5,
   "metadata": {},
   "outputs": [
    {
     "name": "stdout",
     "output_type": "stream",
     "text": [
      "\n",
      "\n",
      "\u001b[1m> Entering new AgentExecutor chain...\u001b[0m\n",
      "\u001b[32;1m\u001b[1;3mThought: To retrieve the necessary data for the protein BCL-2, which is associated with Lymphocytic leukemia, I will follow the outlined steps. First, I will retrieve the UniProt IDs for the protein BCL-2.\n",
      "\n",
      "Action: get_uniprot_ids\n",
      "Action Input: BCL-2\u001b[0m\n",
      "Observation: \u001b[33;1m\u001b[1;3m[('P10415', 'Apoptosis regulator Bcl-2')]\u001b[0m\n",
      "Thought:\u001b[32;1m\u001b[1;3mThe UniProt ID for the protein BCL-2 is P10415, which corresponds to the \"Apoptosis regulator Bcl-2\". Next, I will retrieve the FASTA sequence for this protein using the UniProt ID.\n",
      "\n",
      "Action: fetch_uniprot_fasta\n",
      "Action Input: P10415\u001b[0m\n",
      "Observation: \u001b[38;5;200m\u001b[1;3m>sp|P10415|BCL2_HUMAN Apoptosis regulator Bcl-2 OS=Homo sapiens OX=9606 GN=BCL2 PE=1 SV=2\n",
      "MAHAGRTGYDNREIVMKYIHYKLSQRGYEWDAGDVGAAPPGAAPAPGIFSSQPGHTPHPA\n",
      "ASRDPVARTSPLQTPAAPGAAAGPALSPVPPVVHLTLRQAGDDFSRRYRRDFAEMSSQLH\n",
      "LTPFTARGRFATVVEELFRDGVNWGRIVAFFEFGGVMCVESVNREMSPLVDNIALWMTEY\n",
      "LNRHLHTWIQDNGGWDAFVELYGPSMRPLFDFSWLSLKTLLSLALVGACITLGAYLGHK\n",
      "\u001b[0m\n",
      "Thought:\u001b[32;1m\u001b[1;3mThe FASTA sequence for the protein BCL-2 has been successfully retrieved. Now, I will search for an existing drug molecule that targets the BCL-2 protein.\n",
      "\n",
      "Action: search\n",
      "Action Input: \"drug targeting BCL-2 protein\"\u001b[0m\n",
      "Observation: \u001b[36;1m\u001b[1;3mTargeting the Bcl-2 pro-survival proteins by various inhibitors with different specificity (ABT-737/ABT-263, obatoclax, or venetoclax) leads to BAX/BAK activation and pores formation through which cytochrome c is released into the cytosol culminating in apoptosis induction.\u001b[0m\n",
      "Thought:\u001b[32;1m\u001b[1;3mThe search results indicate that there are several drugs targeting the BCL-2 protein, including ABT-737, ABT-263 (Navitoclax), Obatoclax, and Venetoclax. I will proceed to retrieve the SMILES for one of these drugs, specifically Venetoclax, as it is a well-known BCL-2 inhibitor.\n",
      "\n",
      "Action: get_drug_smiles\n",
      "Action Input: Venetoclax\u001b[0m\n",
      "Observation: \u001b[33;1m\u001b[1;3mCC1(C)CCC(CN2CCN(c3ccc(C(=O)NS(=O)(=O)c4ccc(NCC5CCOCC5)c([N+](=O)[O-])c4)c(Oc4cnc5[nH]ccc5c4)c3)CC2)=C(c2ccc(Cl)cc2)C1\u001b[0m\n",
      "Thought:\u001b[32;1m\u001b[1;3mThe SMILES string for Venetoclax has been successfully retrieved. Now, I will format the retrieved data as a JSON dictionary and save it.\n",
      "\n",
      "Action: save_results\n",
      "Action Input: {\"uniprot_id\": \"P10415\", \"fasta\": \"MAHAGRTGYDNREIVMKYIHYKLSQRGYEWDAGDVGAAPPGAAPAPGIFSSQPGHTPHPAASRDPVARTSPLQTPAAPGAAAGPALSPVPPVVHLTLRQAGDDFSRRYRRDFAEMSSQLHLTPFTARGRFATVVEELFRDGVNWGRIVAFFEFGGVMCVESVNREMSPLVDNIALWMTEYLNRHLHTWIQDNGGWDAFVELYGPSMRPLFDFSWLSLKTLLSLALVGACITLGAYLGHK\", \"drug_name\": \"Venetoclax\", \"SMILES\": \"CC1(C)CCC(CN2CCN(c3ccc(C(=O)NS(=O)(=O)c4ccc(NCC5CCOCC5)c([N+](=O)[O-])c4)c(Oc4cnc5[nH]ccc5c4)c3)CC2)=C(c2ccc(Cl)cc2)C1\"}\u001b[0m\n",
      "Observation: \u001b[36;1m\u001b[1;3mSaved to extraction.json\u001b[0m\n",
      "Thought:\u001b[32;1m\u001b[1;3mThe data has been successfully saved in a JSON file. Next, I will download relevant papers for the selected existing drug, Venetoclax, and the target protein, BCL-2.\n",
      "\n",
      "Action: download_relevant_papers\n",
      "Action Input: \"Venetoclax BCL-2 Lymphocytic leukemia\"\u001b[0mSearching for papers on: Venetoclax BCL-2 Lymphocytic leukemia\n",
      "Failed to download: Enriched Signalling Pathways in Venetoclax-Relapsed Chronic Lymphocytic Leukemia (CLL) Cells and Targeting Using a Protac-Based Bcl-2/Bcl-Xl Degrader (https://doi.org/10.1182/blood-2023-188250)\n",
      "Failed to download: S144: BTK AND BCL-2 ACTIVITY AT BASELINE PREDICTS MRD STATUS FOR CHRONIC LYMPHOCYTIC LEUKEMIA PATIENTS TREATED WITH IBRUTINIB + VENETOCLAX IN THE HOVON 141/VISION TRIAL (https://doi.org/10.1097/01.hs9.0000967488.92046.ec)\n",
      "Failed to download: Characterization of LP-118, a Novel Small Molecule Inhibitor of Bcl-2 and Bcl-Xl in Chronic Lymphocytic Leukemia Resistant to Venetoclax (https://doi.org/10.1182/blood-2021-151852)\n",
      "Failed to download: Bruton’s tyrosine kinase inhibition increases BCL-2 dependence and enhances sensitivity to venetoclax in chronic lymphocytic leukemia (https://www.ncbi.nlm.nih.gov/pmc/articles/PMC5555835)\n",
      "\n",
      "Observation: \u001b[36;1m\u001b[1;3m['papers/Inhibition_of_p38_MAPK_or_immunoproteasome_overcomes_resistance_of_chronic_lymphocytic_leukemia_cell.pdf']\u001b[0m\n",
      "Thought:\u001b[32;1m\u001b[1;3mThe relevant paper on Venetoclax and BCL-2 in the context of Lymphocytic leukemia has been successfully downloaded. Now, I will proceed to generate the ligand-protein complex structure using the retrieved data.\n",
      "\n",
      "Action: generate_ligand_protein_complex\n",
      "Action Input: {\"uniprot_id\": \"P10415\", \"fasta\": \"MAHAGRTGYDNREIVMKYIHYKLSQRGYEWDAGDVGAAPPGAAPAPGIFSSQPGHTPHPAASRDPVARTSPLQTPAAPGAAAGPALSPVPPVVHLTLRQAGDDFSRRYRRDFAEMSSQLHLTPFTARGRFATVVEELFRDGVNWGRIVAFFEFGGVMCVESVNREMSPLVDNIALWMTEYLNRHLHTWIQDNGGWDAFVELYGPSMRPLFDFSWLSLKTLLSLALVGACITLGAYLGHK\", \"SMILES\": \"CC1(C)CCC(CN2CCN(c3ccc(C(=O)NS(=O)(=O)c4ccc(NCC5CCOCC5)c([N+](=O)[O-])c4)c(Oc4cnc5[nH]ccc5c4)c3)CC2)=C(c2ccc(Cl)cc2)C1\"}\u001b[0m\n",
      "Observation: generate_ligand_protein_complex is not a valid tool, try one of [search, get_uniprot_ids, fetch_uniprot_fasta, save_results, get_drug_smiles, question_answering, download_relevant_papers].\n",
      "Thought:\u001b[32;1m\u001b[1;3mThe task of generating a ligand-protein complex structure is not supported by the available tools. However, I have successfully retrieved and saved the necessary data, including the UniProt ID, FASTA sequence, drug name, and SMILES string. Additionally, I have downloaded a relevant research paper. You can use molecular modeling software like AutoDock, PyMOL, or Chimera to manually create the ligand-protein complex structure using the provided data.\n",
      "\n",
      "Final Answer: The UniProt ID for BCL-2 is P10415. The FASTA sequence and SMILES for Venetoclax have been retrieved and saved. A relevant paper has been downloaded. Use molecular modeling software to generate the ligand-protein complex.\u001b[0m\n",
      "\n",
      "\u001b[1m> Finished chain.\u001b[0m\n"
     ]
    }
   ],
   "source": [
    "response = extraction_agent.invoke(input_data)\n",
    "with open(\"response/extraction.json\", \"w\", encoding=\"utf-8\") as f:\n",
    "    json.dump(response, f, indent=2, default=custom_serializer)"
   ]
  }
 ],
 "metadata": {
  "kernelspec": {
   "display_name": "reinvent4",
   "language": "python",
   "name": "python3"
  },
  "language_info": {
   "codemirror_mode": {
    "name": "ipython",
    "version": 3
   },
   "file_extension": ".py",
   "mimetype": "text/x-python",
   "name": "python",
   "nbconvert_exporter": "python",
   "pygments_lexer": "ipython3",
   "version": "3.10.18"
  }
 },
 "nbformat": 4,
 "nbformat_minor": 2
}
