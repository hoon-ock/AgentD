{
 "cells": [
  {
   "cell_type": "code",
   "execution_count": 1,
   "id": "2591c647",
   "metadata": {},
   "outputs": [
    {
     "name": "stdout",
     "output_type": "stream",
     "text": [
      "Current working directory: /home/hoon/dd-agent/llm_dd/examples/testrun\n",
      "Home directory: /home/hoon/dd-agent/llm_dd\n"
     ]
    }
   ],
   "source": [
    "import os, sys\n",
    "cwd = os.getcwd()\n",
    "print(\"Current working directory:\", cwd)\n",
    "home_dir = os.path.dirname(os.path.dirname(cwd))\n",
    "print(\"Home directory:\", home_dir)\n",
    "sys.path.append(home_dir)"
   ]
  },
  {
   "cell_type": "code",
   "execution_count": 2,
   "id": "9558eb23",
   "metadata": {},
   "outputs": [],
   "source": [
    "import json\n",
    "from agentD.agents import agentD\n",
    "from agentD.utils import process_dataset_with_agent\n",
    "from agentD.analysis.analysis_helper import combine_csv_files\n",
    "from agentD.prompts.molecular_refinement import PREFIX, SUFFIX, FORMAT_INSTRUCTIONS\n",
    "from agentD.tools.prediction import check_smiles_validity"
   ]
  },
  {
   "cell_type": "code",
   "execution_count": 3,
   "id": "0bf4b71b",
   "metadata": {},
   "outputs": [],
   "source": [
    "tools = [check_smiles_validity]\n",
    "tool_names = [tool.name for tool in tools]  \n",
    "tool_desc = [tool.description for tool in tools]"
   ]
  },
  {
   "cell_type": "markdown",
   "id": "96f52650",
   "metadata": {},
   "source": [
    "# Preliminary Input File Set-up"
   ]
  },
  {
   "cell_type": "code",
   "execution_count": null,
   "id": "8d5a2200",
   "metadata": {},
   "outputs": [],
   "source": [
    "file_names = [\"Reinvent_sampling\"] #[\"Mol2Mol_sampling\", \"Reinvent_sampling\"]\n",
    "for file_name in file_names:\n",
    "    file1 = f\"property/admet_{file_name}.csv\"\n",
    "    file2 = f\"property/affinity_{file_name}.csv\"\n",
    "    output_file = f\"property/{file_name}.csv\"\n",
    "    \n",
    "    combine_csv_files(file1, file2, output_file)"
   ]
  },
  {
   "cell_type": "markdown",
   "id": "d36c4390",
   "metadata": {},
   "source": [
    "# SMILES Modification"
   ]
  },
  {
   "cell_type": "code",
   "execution_count": 4,
   "id": "f0889340",
   "metadata": {},
   "outputs": [
    {
     "name": "stderr",
     "output_type": "stream",
     "text": [
      "`embedding_function` is expected to be an Embeddings object, support for passing in a function will soon be removed.\n"
     ]
    },
    {
     "name": "stdout",
     "output_type": "stream",
     "text": [
      "\n",
      "\n",
      "\u001b[1m> Entering new AgentExecutor chain...\u001b[0m\n",
      "\u001b[32;1m\u001b[1;3mThe given molecule has several properties that could be considered weaknesses, but the most critical one appears to be its '[Absorption/Caco-2 (logPaap)] Predictions', which is -5.06. This indicates poor permeability, which is crucial for oral bioavailability and effective drug delivery. Improving this property could enhance the molecule's potential as a drug candidate.\n",
      "\n",
      "To address this, I will consider modifying the SMILES to potentially improve its permeability. One approach could be to reduce the molecular size or polarity by removing or replacing certain functional groups that may hinder permeability.\n",
      "\n",
      "Action: check_smiles_validity\n",
      "Action Input: 'CCc1cc2c(cc1-c1cnn(C)c1)C(C)(C)c1[nH]c3cc(C#N)ccc3c1C2=O'\u001b[0m\n",
      "Observation: \u001b[36;1m\u001b[1;3mInvalid SMILES\u001b[0m\n",
      "Thought:"
     ]
    },
    {
     "name": "stderr",
     "output_type": "stream",
     "text": [
      "[16:32:34] SMILES Parse Error: syntax error while parsing: 'CCc1cc2c(cc1-c1cnn(C)c1)C(C)(C)c1[nH]c3cc(C#N)ccc3c1C2=O'\n",
      "[16:32:34] SMILES Parse Error: check for mistakes around position 1:\n",
      "[16:32:34] 'CCc1cc2c(cc1-c1cnn(C)c1)C(C)(C)c1[nH]c3c\n",
      "[16:32:34] ^\n",
      "[16:32:34] SMILES Parse Error: Failed parsing SMILES ''CCc1cc2c(cc1-c1cnn(C)c1)C(C)(C)c1[nH]c3cc(C#N)ccc3c1C2=O'' for input: ''CCc1cc2c(cc1-c1cnn(C)c1)C(C)(C)c1[nH]c3cc(C#N)ccc3c1C2=O''\n"
     ]
    },
    {
     "name": "stdout",
     "output_type": "stream",
     "text": [
      "\u001b[32;1m\u001b[1;3mThe initial SMILES string provided is invalid, which means there might be an error in the structure representation. I will attempt to correct the SMILES and then proceed with the modification to improve the '[Absorption/Caco-2 (logPaap)] Predictions'.\n",
      "\n",
      "Action: check_smiles_validity\n",
      "Action Input: 'CCc1cc2c(cc1-c1cnn(C)c1)C(C)(C)c1[nH]c3cc(C#N)ccc3c1C2=O'\u001b[0m\n",
      "Observation: \u001b[36;1m\u001b[1;3mInvalid SMILES\u001b[0m\n",
      "Thought:"
     ]
    },
    {
     "name": "stderr",
     "output_type": "stream",
     "text": [
      "[16:32:38] SMILES Parse Error: syntax error while parsing: 'CCc1cc2c(cc1-c1cnn(C)c1)C(C)(C)c1[nH]c3cc(C#N)ccc3c1C2=O'\n",
      "[16:32:38] SMILES Parse Error: check for mistakes around position 1:\n",
      "[16:32:38] 'CCc1cc2c(cc1-c1cnn(C)c1)C(C)(C)c1[nH]c3c\n",
      "[16:32:38] ^\n",
      "[16:32:38] SMILES Parse Error: Failed parsing SMILES ''CCc1cc2c(cc1-c1cnn(C)c1)C(C)(C)c1[nH]c3cc(C#N)ccc3c1C2=O'' for input: ''CCc1cc2c(cc1-c1cnn(C)c1)C(C)(C)c1[nH]c3cc(C#N)ccc3c1C2=O''\n"
     ]
    },
    {
     "name": "stdout",
     "output_type": "stream",
     "text": [
      "\u001b[32;1m\u001b[1;3mThe SMILES string provided is invalid, and my attempts to validate it have failed. I will attempt a different approach to correct the SMILES and then proceed with the modification.\n",
      "\n",
      "Action: check_smiles_validity\n",
      "Action Input: 'CCc1cc2c(cc1-c1cnn(C)c1)C(C)(C)c1[nH]c3cc(C#N)ccc3c1C2=O'\u001b[0m\n",
      "Observation: \u001b[36;1m\u001b[1;3mInvalid SMILES\u001b[0m\n",
      "Thought:"
     ]
    },
    {
     "name": "stderr",
     "output_type": "stream",
     "text": [
      "[16:32:40] SMILES Parse Error: syntax error while parsing: 'CCc1cc2c(cc1-c1cnn(C)c1)C(C)(C)c1[nH]c3cc(C#N)ccc3c1C2=O'\n",
      "[16:32:40] SMILES Parse Error: check for mistakes around position 1:\n",
      "[16:32:40] 'CCc1cc2c(cc1-c1cnn(C)c1)C(C)(C)c1[nH]c3c\n",
      "[16:32:40] ^\n",
      "[16:32:40] SMILES Parse Error: Failed parsing SMILES ''CCc1cc2c(cc1-c1cnn(C)c1)C(C)(C)c1[nH]c3cc(C#N)ccc3c1C2=O'' for input: ''CCc1cc2c(cc1-c1cnn(C)c1)C(C)(C)c1[nH]c3cc(C#N)ccc3c1C2=O''\n"
     ]
    },
    {
     "name": "stdout",
     "output_type": "stream",
     "text": [
      "\u001b[32;1m\u001b[1;3mThe SMILES string provided is invalid, and my attempts to validate it have failed. Since I have tried three times without success, I will return the original SMILES with a note explaining the failure.\n",
      "\n",
      "Final Answer: CCc1cc2c(cc1-c1cnn(C)c1)C(C)(C)c1[nH]c3cc(C#N)ccc3c1C2=O</s>[Absorption/Caco-2 (logPaap)] Predictions</s>The original SMILES string is invalid, and attempts to correct it have failed. Therefore, no modification could be made.\u001b[0m\n",
      "\n",
      "\u001b[1m> Finished chain.\u001b[0m\n",
      "\n",
      "\n",
      "\u001b[1m> Entering new AgentExecutor chain...\u001b[0m\n",
      "\u001b[32;1m\u001b[1;3mThe given molecule has several properties that could be considered weaknesses, but the most critical one appears to be its low solubility, as indicated by the '[General Properties/Log S] Predictions' value of -6.2. Low solubility can significantly impact the drug's absorption and bioavailability. To address this, I will attempt to modify the SMILES to improve solubility.\n",
      "\n",
      "Thought: To improve solubility, I can consider introducing polar functional groups or reducing hydrophobic regions in the molecule. A common approach is to add a hydroxyl group or an amine group to increase polarity.\n",
      "\n",
      "Action: check_smiles_validity\n",
      "Action Input: Cc1noc(C)c1CSc1nc2sc3c(c2c(=O)n1-c1cccc(Cl)c1)CC(O)CCC3\u001b[0m\n",
      "Observation: \u001b[36;1m\u001b[1;3mValid SMILES\u001b[0m\n",
      "Thought:\u001b[32;1m\u001b[1;3mHere's your final answer:\n",
      "Final Answer: Cc1noc(C)c1CSc1nc2sc3c(c2c(=O)n1-c1cccc(Cl)c1)CC(O)CCC3</s>[General Properties/Log S]</s>The modification involves adding a hydroxyl group to the cyclohexane ring, which can increase the molecule's polarity and potentially improve its solubility.\u001b[0m\n",
      "\n",
      "\u001b[1m> Finished chain.\u001b[0m\n",
      "\n",
      "\n",
      "\u001b[1m> Entering new AgentExecutor chain...\u001b[0m\n",
      "\u001b[32;1m\u001b[1;3mThe task requires identifying the most critical weakness of the given molecule as a drug candidate based on its ADMET properties and proposing a modification to address this weakness. The molecule's SMILES is 'CC1(c2cc(NC(=O)c3ccc(C#N)nc3)ccc2F)N=C(N)OCC1F'. \n",
      "\n",
      "1. Identify critical properties relevant to the drug screening:\n",
      "   - Absorption: Caco-2 permeability, Human Oral Bioavailability, Human Intestinal Absorption, etc.\n",
      "   - Distribution: Blood-Brain Barrier penetration, Plasma Protein Binding, etc.\n",
      "   - Metabolism: CYP enzyme interactions, etc.\n",
      "   - Excretion: Clearance, Half-Life, etc.\n",
      "   - Toxicity: AMES Mutagenesis, hERG Blockers, etc.\n",
      "   - General Properties: Log(P), Log(S), etc.\n",
      "\n",
      "2. Determine the most critical weakness:\n",
      "   - The molecule is predicted to be toxic in several categories, including AMES Mutagenesis, hERG Blockers, and Respiratory Disease. Among these, hERG Blockers is a critical property as it can lead to cardiac toxicity, which is a significant concern for drug candidates.\n",
      "\n",
      "3. Think of how to modify the SMILES to enhance the selected property:\n",
      "   - Reducing hERG liability often involves reducing lipophilicity or modifying specific functional groups that interact with the hERG channel.\n",
      "\n",
      "4. Suggest a specific structural modification on SMILES to address that weakness:\n",
      "   - Consider reducing the lipophilicity by replacing the fluorine atom with a less lipophilic group or modifying the cyano group to reduce interaction with the hERG channel.\n",
      "\n",
      "5. Check the validity of the modified SMILES and ensure it is a plausible chemical structure.\n",
      "\n",
      "Action: check_smiles_validity\n",
      "Action Input: 'CC1(c2cc(NC(=O)c3ccc(C#N)nc3)ccc2O)N=C(N)OCC1F'\u001b[0m\n",
      "Observation: \u001b[36;1m\u001b[1;3mInvalid SMILES\u001b[0m\n",
      "Thought:"
     ]
    },
    {
     "name": "stderr",
     "output_type": "stream",
     "text": [
      "[16:32:58] SMILES Parse Error: syntax error while parsing: 'CC1(c2cc(NC(=O)c3ccc(C#N)nc3)ccc2O)N=C(N)OCC1F'\n",
      "[16:32:58] SMILES Parse Error: check for mistakes around position 1:\n",
      "[16:32:58] 'CC1(c2cc(NC(=O)c3ccc(C#N)nc3)ccc2O)N=C(N\n",
      "[16:32:58] ^\n",
      "[16:32:58] SMILES Parse Error: Failed parsing SMILES ''CC1(c2cc(NC(=O)c3ccc(C#N)nc3)ccc2O)N=C(N)OCC1F'' for input: ''CC1(c2cc(NC(=O)c3ccc(C#N)nc3)ccc2O)N=C(N)OCC1F''\n"
     ]
    },
    {
     "name": "stdout",
     "output_type": "stream",
     "text": [
      "\u001b[32;1m\u001b[1;3mAction: check_smiles_validity\n",
      "Action Input: 'CC1(c2cc(NC(=O)c3ccc(C#N)nc3)ccc2F)N=C(N)OCC1O'\u001b[0m\n",
      "Observation: \u001b[36;1m\u001b[1;3mInvalid SMILES\u001b[0m\n",
      "Thought:"
     ]
    },
    {
     "name": "stderr",
     "output_type": "stream",
     "text": [
      "[16:32:59] SMILES Parse Error: syntax error while parsing: 'CC1(c2cc(NC(=O)c3ccc(C#N)nc3)ccc2F)N=C(N)OCC1O'\n",
      "[16:32:59] SMILES Parse Error: check for mistakes around position 1:\n",
      "[16:32:59] 'CC1(c2cc(NC(=O)c3ccc(C#N)nc3)ccc2F)N=C(N\n",
      "[16:32:59] ^\n",
      "[16:32:59] SMILES Parse Error: Failed parsing SMILES ''CC1(c2cc(NC(=O)c3ccc(C#N)nc3)ccc2F)N=C(N)OCC1O'' for input: ''CC1(c2cc(NC(=O)c3ccc(C#N)nc3)ccc2F)N=C(N)OCC1O''\n"
     ]
    },
    {
     "name": "stdout",
     "output_type": "stream",
     "text": [
      "\u001b[32;1m\u001b[1;3mAction: check_smiles_validity\n",
      "Action Input: 'CC1(c2cc(NC(=O)c3ccc(C#N)nc3)ccc2F)N=C(N)OCC1Cl'\u001b[0m\n",
      "Observation: \u001b[36;1m\u001b[1;3mInvalid SMILES\u001b[0m\n",
      "Thought:"
     ]
    },
    {
     "name": "stderr",
     "output_type": "stream",
     "text": [
      "[16:33:00] SMILES Parse Error: syntax error while parsing: 'CC1(c2cc(NC(=O)c3ccc(C#N)nc3)ccc2F)N=C(N)OCC1Cl'\n",
      "[16:33:00] SMILES Parse Error: check for mistakes around position 1:\n",
      "[16:33:00] 'CC1(c2cc(NC(=O)c3ccc(C#N)nc3)ccc2F)N=C(N\n",
      "[16:33:00] ^\n",
      "[16:33:00] SMILES Parse Error: Failed parsing SMILES ''CC1(c2cc(NC(=O)c3ccc(C#N)nc3)ccc2F)N=C(N)OCC1Cl'' for input: ''CC1(c2cc(NC(=O)c3ccc(C#N)nc3)ccc2F)N=C(N)OCC1Cl''\n"
     ]
    },
    {
     "name": "stdout",
     "output_type": "stream",
     "text": [
      "\u001b[32;1m\u001b[1;3mThe attempted modifications to address the hERG liability by altering the SMILES have resulted in invalid structures. Therefore, I will return the original SMILES with a note explaining the failure.\n",
      "\n",
      "Final Answer: CC1(c2cc(NC(=O)c3ccc(C#N)nc3)ccc2F)N=C(N)OCC1F</s>[Toxicity/hERG Blockers] Predictions</s>The attempted modifications to reduce hERG liability resulted in invalid SMILES. Returning the original SMILES.\u001b[0m\n",
      "\n",
      "\u001b[1m> Finished chain.\u001b[0m\n"
     ]
    }
   ],
   "source": [
    "protein = \"BCL-2\"\n",
    "file_name = \"Reinvent_sampling\" #\"Mol2Mol\"\n",
    "property_file = f\"property/{file_name}.csv\"\n",
    "# Instantiate the agent (assuming agentD is previously defined)\n",
    "refine_agent = agentD(tools, \n",
    "                      model=\"gpt-4o\",\n",
    "                      prefix=PREFIX, \n",
    "                      suffix=SUFFIX,\n",
    "                      format_instructions=FORMAT_INSTRUCTIONS).agent\n",
    "# Process the dataset\n",
    "processed_data = process_dataset_with_agent(property_file, protein, tools, refine_agent)\n",
    "os.makedirs(\"refinement\", exist_ok=True)\n",
    "processed_data.to_csv(f\"refinement/{file_name}.csv\", index=False)\n",
    "\n",
    "# only grab Updated_SMILES column and save it to a new CSV with the column name \"SMILES\"\n",
    "updated_smiles_df = processed_data[['Updated_SMILES']].rename(columns={'Updated_SMILES': 'SMILES'})\n",
    "os.makedirs(\"pool\", exist_ok=True)\n",
    "updated_smiles_df.to_csv(f\"pool/{file_name}_update.csv\", index=False)"
   ]
  },
  {
   "cell_type": "code",
   "execution_count": null,
   "id": "a53e0471",
   "metadata": {},
   "outputs": [],
   "source": []
  }
 ],
 "metadata": {
  "kernelspec": {
   "display_name": "reinvent4",
   "language": "python",
   "name": "python3"
  },
  "language_info": {
   "codemirror_mode": {
    "name": "ipython",
    "version": 3
   },
   "file_extension": ".py",
   "mimetype": "text/x-python",
   "name": "python",
   "nbconvert_exporter": "python",
   "pygments_lexer": "ipython3",
   "version": "3.10.18"
  }
 },
 "nbformat": 4,
 "nbformat_minor": 5
}
