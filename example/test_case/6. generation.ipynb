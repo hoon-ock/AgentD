{
 "cells": [
  {
   "cell_type": "code",
   "execution_count": 1,
   "id": "897b37c8",
   "metadata": {},
   "outputs": [
    {
     "name": "stdout",
     "output_type": "stream",
     "text": [
      "Current working directory: /home/hoon/dd-agent/llm_dd/examples/testrun\n",
      "Home directory: /home/hoon/dd-agent/llm_dd\n"
     ]
    }
   ],
   "source": [
    "import os, sys\n",
    "cwd = os.getcwd()\n",
    "print(\"Current working directory:\", cwd)\n",
    "home_dir = os.path.dirname(os.path.dirname(cwd))\n",
    "print(\"Home directory:\", home_dir)\n",
    "sys.path.append(home_dir)"
   ]
  },
  {
   "cell_type": "code",
   "execution_count": 2,
   "id": "d74c2cae",
   "metadata": {},
   "outputs": [],
   "source": [
    "import json\n",
    "import pandas as pd\n",
    "from agentD.agents import agentD\n",
    "from agentD.utils import get_tool_decorated_functions, custom_serializer\n",
    "from agentD.prompts.structure_generation import PREFIX, SUFFIX, FORMAT_INSTRUCTIONS"
   ]
  },
  {
   "cell_type": "code",
   "execution_count": 3,
   "id": "5ca23820",
   "metadata": {},
   "outputs": [],
   "source": [
    "ret_tools = get_tool_decorated_functions(os.path.join(home_dir, \"agentD/tools/retrieval.py\"))\n",
    "gen_tools = get_tool_decorated_functions(os.path.join(home_dir, \"agentD/tools/generation.py\"))\n",
    "\n",
    "tools = ret_tools + gen_tools \n",
    "tool_names = [tool.name for tool in tools]  \n",
    "tool_desc = [tool.description for tool in tools]"
   ]
  },
  {
   "cell_type": "markdown",
   "id": "4eed0467",
   "metadata": {},
   "source": [
    "# Complex Structure Generation"
   ]
  },
  {
   "cell_type": "code",
   "execution_count": 4,
   "id": "616d655d",
   "metadata": {},
   "outputs": [
    {
     "name": "stderr",
     "output_type": "stream",
     "text": [
      "`embedding_function` is expected to be an Embeddings object, support for passing in a function will soon be removed.\n"
     ]
    }
   ],
   "source": [
    "protein = \"BCL-2\" \n",
    "disease = \"Lymphocytic leukemia\"\n",
    "smiles_list = pd.read_csv(\"analysis_result/filtered_r2_q0.5_a6.csv\")['SMILES'].to_list()\n",
    "\n",
    "Human_prompt = f\"Generate the ligand-protein complex structure for potential drug molecules in the given list {smiles_list}, targeting the {protein} protein associated with {disease}.\"\n",
    "input_data = {\n",
    "            \"input\": Human_prompt,\n",
    "            \"tools\": tools,\n",
    "            \"tool_names\": tool_names,\n",
    "            \"tool_desc\": tool_desc\n",
    "        }\n",
    "\n",
    "structure_agent = agentD(tools, \n",
    "                         model=\"gpt-4o\",\n",
    "                         prefix=PREFIX, \n",
    "                         suffix=SUFFIX,\n",
    "                         format_instructions=FORMAT_INSTRUCTIONS).agent"
   ]
  },
  {
   "cell_type": "code",
   "execution_count": 5,
   "id": "6ca08f5d",
   "metadata": {},
   "outputs": [
    {
     "name": "stdout",
     "output_type": "stream",
     "text": [
      "\n",
      "\n",
      "\u001b[1m> Entering new AgentExecutor chain...\u001b[0m\n",
      "\u001b[32;1m\u001b[1;3mThe task is to generate the protein-ligand complex structure for potential drug molecules targeting the BCL-2 protein, which is associated with Lymphocytic leukemia. I will follow the protocol to achieve this:\n",
      "\n",
      "1. Retrieve the UniProt IDs for the BCL-2 protein.\n",
      "2. Decide the most relevant protein for our target.\n",
      "3. Retrieve the FASTA sequence of the BCL-2 protein.\n",
      "4. Search for an existing drug molecule for the BCL-2 protein.\n",
      "5. Retrieve the SMILES from the given list of SMILES.\n",
      "6. Generate the protein-ligand complex structure for the final optimized molecule and protein.\n",
      "\n",
      "Let's begin with the first step.\n",
      "\n",
      "Action: get_uniprot_ids\n",
      "Action Input: \"BCL-2\"\u001b[0m\n",
      "Observation: \u001b[33;1m\u001b[1;3m[('P10415', 'Apoptosis regulator Bcl-2')]\u001b[0m\n",
      "Thought:\u001b[32;1m\u001b[1;3mThe UniProt ID for the BCL-2 protein is P10415, which corresponds to the Apoptosis regulator Bcl-2. This is the relevant protein for our target. Now, I will proceed to retrieve the FASTA sequence for this protein.\n",
      "\n",
      "Action: fetch_uniprot_fasta\n",
      "Action Input: \"P10415\"\u001b[0m\n",
      "Observation: \u001b[38;5;200m\u001b[1;3m>sp|P10415|BCL2_HUMAN Apoptosis regulator Bcl-2 OS=Homo sapiens OX=9606 GN=BCL2 PE=1 SV=2\n",
      "MAHAGRTGYDNREIVMKYIHYKLSQRGYEWDAGDVGAAPPGAAPAPGIFSSQPGHTPHPA\n",
      "ASRDPVARTSPLQTPAAPGAAAGPALSPVPPVVHLTLRQAGDDFSRRYRRDFAEMSSQLH\n",
      "LTPFTARGRFATVVEELFRDGVNWGRIVAFFEFGGVMCVESVNREMSPLVDNIALWMTEY\n",
      "LNRHLHTWIQDNGGWDAFVELYGPSMRPLFDFSWLSLKTLLSLALVGACITLGAYLGHK\n",
      "\u001b[0m\n",
      "Thought:\u001b[32;1m\u001b[1;3mThe FASTA sequence for the BCL-2 protein has been successfully retrieved. Now, I will search for an existing drug molecule associated with the BCL-2 protein to understand potential interactions and binding affinities.\n",
      "\n",
      "Action: search\n",
      "Action Input: \"existing drug molecule for BCL-2 protein\"\u001b[0m\n",
      "Observation: \u001b[36;1m\u001b[1;3mVenetoclax, the first FDA-approved BH3 mimetic, specifically targets BCL-2 and has shown efficacy in treating chronic lymphocytic leukemia and other hematological malignancies [74].\u001b[0m\n",
      "Thought:\u001b[32;1m\u001b[1;3mVenetoclax is an existing drug molecule that specifically targets the BCL-2 protein and is used in treating chronic lymphocytic leukemia. Now, I will retrieve the SMILES for Venetoclax to compare with the given list of SMILES.\n",
      "\n",
      "Action: get_drug_smiles\n",
      "Action Input: \"Venetoclax\"\u001b[0m\n",
      "Observation: \u001b[33;1m\u001b[1;3mCC1(C)CCC(CN2CCN(c3ccc(C(=O)NS(=O)(=O)c4ccc(NCC5CCOCC5)c([N+](=O)[O-])c4)c(Oc4cnc5[nH]ccc5c4)c3)CC2)=C(c2ccc(Cl)cc2)C1\u001b[0m\n",
      "Thought:\u001b[32;1m\u001b[1;3mThe SMILES for Venetoclax has been retrieved. Now, I will proceed to generate the protein-ligand complex structure for each SMILES in the given list using the BCL-2 protein sequence.\n",
      "\n",
      "I will iterate through each SMILES in the list and generate the complex structure.\n",
      "\n",
      "Action: generate_complex_structure\n",
      "Action Input: {\"sequence\": \"MAHAGRTGYDNREIVMKYIHYKLSQRGYEWDAGDVGAAPPGAAPAPGIFSSQPGHTPHPAASRDPVARTSPLQTPAAPGAAAGPALSPVPPVVHLTLRQAGDDFSRRYRRDFAEMSSQLHLTPFTARGRFATVVEELFRDGVNWGRIVAFFEFGGVMCVESVNREMSPLVDNIALWMTEYLNRHLHTWIQDNGGWDAFVELYGPSMRPLFDFSWLSLKTLLSLALVGACITLGAYLGHK\", \"smiles\": \"O=C(NS(=O)(=O)c1ccc(N2CCNCC2)c(O)c1)c1ccc(N2CCOCC2)c(Cl)c1\"}\u001b[0mYAML file created: configs/MAHAG_O=C(N.yaml\n",
      "\n",
      "Observation: \u001b[33;1m\u001b[1;3mConfig file created. Now the user can run Boltz with the command: boltz predict configs/MAHAG_O=C(N.yaml --use_msa_server --accelerator gpu --num_workers 20 \u001b[0m\n",
      "Thought:\u001b[32;1m\u001b[1;3mAction: generate_complex_structure\n",
      "Action Input: {\"sequence\": \"MAHAGRTGYDNREIVMKYIHYKLSQRGYEWDAGDVGAAPPGAAPAPGIFSSQPGHTPHPAASRDPVARTSPLQTPAAPGAAAGPALSPVPPVVHLTLRQAGDDFSRRYRRDFAEMSSQLHLTPFTARGRFATVVEELFRDGVNWGRIVAFFEFGGVMCVESVNREMSPLVDNIALWMTEYLNRHLHTWIQDNGGWDAFVELYGPSMRPLFDFSWLSLKTLLSLALVGACITLGAYLGHK\", \"smiles\": \"O=C(NS(=O)(=O)c1ccc(N2CCNCC2)c(C)c1)c1ccc(N2CCOCC2)c(Cl)c1\"}\u001b[0mYAML file created: configs/MAHAG_O=C(N_1.yaml\n",
      "\n",
      "Observation: \u001b[33;1m\u001b[1;3mConfig file created. Now the user can run Boltz with the command: boltz predict configs/MAHAG_O=C(N_1.yaml --use_msa_server --accelerator gpu --num_workers 20 \u001b[0m\n",
      "Thought:\u001b[32;1m\u001b[1;3mAction: generate_complex_structure\n",
      "Action Input: {\"sequence\": \"MAHAGRTGYDNREIVMKYIHYKLSQRGYEWDAGDVGAAPPGAAPAPGIFSSQPGHTPHPAASRDPVARTSPLQTPAAPGAAAGPALSPVPPVVHLTLRQAGDDFSRRYRRDFAEMSSQLHLTPFTARGRFATVVEELFRDGVNWGRIVAFFEFGGVMCVESVNREMSPLVDNIALWMTEYLNRHLHTWIQDNGGWDAFVELYGPSMRPLFDFSWLSLKTLLSLALVGACITLGAYLGHK\", \"smiles\": \"O=C(NS(=O)(=O)c1ccc(N2CCOCC2=O)c(Cl)c1)c1ccc(N2CCOCC2)c(Cl)c1\"}\u001b[0mYAML file created: configs/MAHAG_O=C(N_2.yaml\n",
      "\n",
      "Observation: \u001b[33;1m\u001b[1;3mConfig file created. Now the user can run Boltz with the command: boltz predict configs/MAHAG_O=C(N_2.yaml --use_msa_server --accelerator gpu --num_workers 20 \u001b[0m\n",
      "Thought:\u001b[32;1m\u001b[1;3mHere's your final answer:\n",
      "Final Answer: The protein-ligand complex structures for the BCL-2 protein with the given list of SMILES have been successfully configured. You can run Boltz with the following commands to generate the structures:\n",
      "\n",
      "1. For SMILES \"O=C(NS(=O)(=O)c1ccc(N2CCNCC2)c(O)c1)c1ccc(N2CCOCC2)c(Cl)c1\":\n",
      "   ```\n",
      "   boltz predict configs/MAHAG_O=C(N.yaml --use_msa_server --accelerator gpu --num_workers 20\n",
      "   ```\n",
      "\n",
      "2. For SMILES \"O=C(NS(=O)(=O)c1ccc(N2CCNCC2)c(C)c1)c1ccc(N2CCOCC2)c(Cl)c1\":\n",
      "   ```\n",
      "   boltz predict configs/MAHAG_O=C(N_1.yaml --use_msa_server --accelerator gpu --num_workers 20\n",
      "   ```\n",
      "\n",
      "3. For SMILES \"O=C(NS(=O)(=O)c1ccc(N2CCOCC2=O)c(Cl)c1)c1ccc(N2CCOCC2)c(Cl)c1\":\n",
      "   ```\n",
      "   boltz predict configs/MAHAG_O=C(N_2.yaml --use_msa_server --accelerator gpu --num_workers 20\n",
      "   ```\n",
      "\n",
      "These commands will generate the complex structures using the Boltz tool.\u001b[0m\n",
      "\n",
      "\u001b[1m> Finished chain.\u001b[0m\n"
     ]
    }
   ],
   "source": [
    "response = structure_agent.invoke(input_data)\n",
    "with open(f\"response/generation.json\", \"w\", encoding=\"utf-8\") as f:\n",
    "    json.dump(response, f, indent=2, default=custom_serializer)"
   ]
  }
 ],
 "metadata": {
  "kernelspec": {
   "display_name": "reinvent4",
   "language": "python",
   "name": "python3"
  },
  "language_info": {
   "codemirror_mode": {
    "name": "ipython",
    "version": 3
   },
   "file_extension": ".py",
   "mimetype": "text/x-python",
   "name": "python",
   "nbconvert_exporter": "python",
   "pygments_lexer": "ipython3",
   "version": "3.10.18"
  }
 },
 "nbformat": 4,
 "nbformat_minor": 5
}
