{
 "cells": [
  {
   "cell_type": "code",
   "execution_count": 1,
   "id": "897b37c8",
   "metadata": {},
   "outputs": [
    {
     "name": "stdout",
     "output_type": "stream",
     "text": [
      "Current working directory: /home/hoon/dd-agent/llm_dd/example/test_case\n",
      "Home directory: /home/hoon/dd-agent/llm_dd\n"
     ]
    }
   ],
   "source": [
    "import os, sys\n",
    "cwd = os.getcwd()\n",
    "print(\"Current working directory:\", cwd)\n",
    "home_dir = os.path.dirname(os.path.dirname(cwd))\n",
    "print(\"Home directory:\", home_dir)\n",
    "sys.path.append(home_dir)"
   ]
  },
  {
   "cell_type": "markdown",
   "id": "f816c6ac",
   "metadata": {},
   "source": [
    "# Preliminary Candidates Set-up (exemplary filtering)"
   ]
  },
  {
   "cell_type": "code",
   "execution_count": 2,
   "id": "6c07a6f5",
   "metadata": {},
   "outputs": [],
   "source": [
    "import pandas as pd\n",
    "from agentD.analysis.drug_likeness_analyzer import DrugLikenessAnalyzer\n",
    "import json"
   ]
  },
  {
   "cell_type": "markdown",
   "id": "e19666d1",
   "metadata": {},
   "source": [
    "## Filtering"
   ]
  },
  {
   "cell_type": "code",
   "execution_count": 3,
   "id": "b44b6c1c",
   "metadata": {},
   "outputs": [
    {
     "data": {
      "text/html": [
       "<div>\n",
       "<style scoped>\n",
       "    .dataframe tbody tr th:only-of-type {\n",
       "        vertical-align: middle;\n",
       "    }\n",
       "\n",
       "    .dataframe tbody tr th {\n",
       "        vertical-align: top;\n",
       "    }\n",
       "\n",
       "    .dataframe thead th {\n",
       "        text-align: right;\n",
       "    }\n",
       "</style>\n",
       "<table border=\"1\" class=\"dataframe\">\n",
       "  <thead>\n",
       "    <tr style=\"text-align: right;\">\n",
       "      <th></th>\n",
       "      <th>Method</th>\n",
       "      <th>SMILES</th>\n",
       "      <th>lipinski_rule_of_5</th>\n",
       "      <th>veber_rule</th>\n",
       "      <th>ghose_filter</th>\n",
       "      <th>rule_of_3</th>\n",
       "      <th>oprea_lead_like</th>\n",
       "      <th>fda_criteria</th>\n",
       "      <th>fda_approval_category</th>\n",
       "      <th>num_passed_rules</th>\n",
       "      <th>QED</th>\n",
       "      <th>Affinity</th>\n",
       "      <th>smiles</th>\n",
       "      <th>summary</th>\n",
       "    </tr>\n",
       "  </thead>\n",
       "  <tbody>\n",
       "    <tr>\n",
       "      <th>0</th>\n",
       "      <td>Mol2Mol_sampling</td>\n",
       "      <td>O=C(NS(=O)(=O)c1ccc(N2CCN(C3CCCCC3)CC2=O)cc1)c...</td>\n",
       "      <td>True</td>\n",
       "      <td>True</td>\n",
       "      <td>False</td>\n",
       "      <td>False</td>\n",
       "      <td>True</td>\n",
       "      <td>False</td>\n",
       "      <td>Low (Requires Optimization)</td>\n",
       "      <td>3.0</td>\n",
       "      <td>0.514987</td>\n",
       "      <td>6.048075</td>\n",
       "      <td>NaN</td>\n",
       "      <td>NaN</td>\n",
       "    </tr>\n",
       "    <tr>\n",
       "      <th>1</th>\n",
       "      <td>Mol2Mol_sampling</td>\n",
       "      <td>O=C(NS(=O)(=O)c1ccc(N2CCNCC2)c(O)c1)c1ccc(N2CC...</td>\n",
       "      <td>True</td>\n",
       "      <td>True</td>\n",
       "      <td>False</td>\n",
       "      <td>False</td>\n",
       "      <td>True</td>\n",
       "      <td>False</td>\n",
       "      <td>Low (Requires Optimization)</td>\n",
       "      <td>3.0</td>\n",
       "      <td>0.588783</td>\n",
       "      <td>6.194175</td>\n",
       "      <td>NaN</td>\n",
       "      <td>NaN</td>\n",
       "    </tr>\n",
       "  </tbody>\n",
       "</table>\n",
       "</div>"
      ],
      "text/plain": [
       "             Method                                             SMILES  \\\n",
       "0  Mol2Mol_sampling  O=C(NS(=O)(=O)c1ccc(N2CCN(C3CCCCC3)CC2=O)cc1)c...   \n",
       "1  Mol2Mol_sampling  O=C(NS(=O)(=O)c1ccc(N2CCNCC2)c(O)c1)c1ccc(N2CC...   \n",
       "\n",
       "  lipinski_rule_of_5 veber_rule ghose_filter rule_of_3 oprea_lead_like  \\\n",
       "0               True       True        False     False            True   \n",
       "1               True       True        False     False            True   \n",
       "\n",
       "  fda_criteria        fda_approval_category  num_passed_rules       QED  \\\n",
       "0        False  Low (Requires Optimization)               3.0  0.514987   \n",
       "1        False  Low (Requires Optimization)               3.0  0.588783   \n",
       "\n",
       "   Affinity smiles summary  \n",
       "0  6.048075    NaN     NaN  \n",
       "1  6.194175    NaN     NaN  "
      ]
     },
     "execution_count": 3,
     "metadata": {},
     "output_type": "execute_result"
    }
   ],
   "source": [
    "original_data = pd.read_csv(\"analysis_result/combined_sampling.csv\")\n",
    "first_updated_data = pd.read_csv(\"analysis_result/combined_sampling_update.csv\")\n",
    "second_updated_data = pd.read_csv(\"analysis_result/combined_sampling_update_update.csv\")\n",
    "\n",
    "# stack the three dataframes\n",
    "combined_data = pd.concat([original_data, first_updated_data, second_updated_data], ignore_index=True)\n",
    "combined_data = combined_data.drop_duplicates(subset=['SMILES'], keep='last')\n",
    "combined_data = combined_data.reset_index(drop=True)\n",
    "\n",
    "\n",
    "rule_threshold = 2 \n",
    "qed_threshold = 0.5 \n",
    "affinity_threshold = 6 \n",
    "\n",
    "filtered_data = combined_data[\n",
    "    (combined_data['num_passed_rules'] > rule_threshold) &\n",
    "    (combined_data['QED'] > qed_threshold) &\n",
    "    (combined_data['Affinity'] > affinity_threshold)\n",
    "]\n",
    "\n",
    "filtered_data = filtered_data.reset_index(drop=True)\n",
    "filtered_data.to_csv(f\"analysis_result/filtered_r{rule_threshold}_q{qed_threshold}_a{affinity_threshold}.csv\", index=False)\n",
    "filtered_data "
   ]
  },
  {
   "cell_type": "markdown",
   "id": "74bb0f58",
   "metadata": {},
   "source": [
    "## Visualization with predicted properties"
   ]
  },
  {
   "cell_type": "code",
   "execution_count": 6,
   "id": "3b6f0f47",
   "metadata": {},
   "outputs": [],
   "source": [
    "# property\n",
    "original_prop = pd.read_csv(\"property/combined_sampling.csv\")\n",
    "first_updated_prop = pd.read_csv(\"property/combined_sampling_update.csv\")\n",
    "second_updated_prop = pd.read_csv(\"property/combined_sampling_update_update.csv\")  \n",
    "drug_prop = pd.read_csv(\"property/venetoclax.csv\") "
   ]
  },
  {
   "cell_type": "code",
   "execution_count": 8,
   "id": "754ffe27",
   "metadata": {},
   "outputs": [
    {
     "name": "stdout",
     "output_type": "stream",
     "text": [
      " GENERATING ALL RADAR PLOTS\n",
      "==================================================\n",
      "\n",
      "Attempting Lipinski Rule of 5...\n",
      " Saved: visuals/new_mol_batch2_0/lipinski_radar_plot.png\n",
      " Lipinski Rule of 5: SUCCESS\n",
      "\n",
      "Attempting Veber Rule...\n",
      " Saved: visuals/new_mol_batch2_0/veber_radar_plot.png\n",
      " Veber Rule: SUCCESS\n",
      "\n",
      "Attempting Ghose Filter...\n",
      " Saved: visuals/new_mol_batch2_0/ghose_radar_plot.png\n",
      " Ghose Filter: SUCCESS\n",
      "\n",
      "Attempting Rule of 3...\n",
      " Saved: visuals/new_mol_batch2_0/rule_of_3_radar_plot.png\n",
      " Rule of 3: SUCCESS\n",
      "\n",
      "Attempting Oprea Lead-like...\n",
      " Saved: visuals/new_mol_batch2_0/oprea_radar_plot.png\n",
      " Oprea Lead-like: SUCCESS\n",
      "\n",
      " RADAR PLOT SUMMARY:\n",
      "Successful plots: 5\n",
      "Failed/skipped: 0\n",
      "\n",
      " Successfully generated:\n",
      "  - Lipinski Rule of 5\n",
      "  - Veber Rule\n",
      "  - Ghose Filter\n",
      "  - Rule of 3\n",
      "  - Oprea Lead-like\n"
     ]
    },
    {
     "data": {
      "text/plain": [
       "{'successful': [('lipinski', 'Lipinski Rule of 5'),\n",
       "  ('veber', 'Veber Rule'),\n",
       "  ('ghose', 'Ghose Filter'),\n",
       "  ('rule_of_3', 'Rule of 3'),\n",
       "  ('oprea', 'Oprea Lead-like')],\n",
       " 'failed': [],\n",
       " 'total_attempted': 5}"
      ]
     },
     "execution_count": 8,
     "metadata": {},
     "output_type": "execute_result"
    }
   ],
   "source": [
    "entry_no = 0\n",
    "row = filtered_data.iloc[entry_no]\n",
    "smiles = row['SMILES']\n",
    "method = row['Method']\n",
    "\n",
    "# Determine which property dataframe to use based on the number of '_update' in the Method\n",
    "update_count = method.count('_update')\n",
    "\n",
    "if update_count == 0:\n",
    "    prop_source = original_prop\n",
    "elif update_count == 1:\n",
    "    prop_source = first_updated_prop\n",
    "else:\n",
    "    prop_source = second_updated_prop\n",
    "\n",
    "# Retrieve the property dictionary\n",
    "prop_dict = prop_source[prop_source['SMILES'] == smiles].iloc[0].to_dict()\n",
    "\n",
    "# Run analysis\n",
    "analyzer = DrugLikenessAnalyzer(data=prop_dict)\n",
    "analyzer.generate_all_radar_plots(save_directory=f\"visuals/new_mol_batch2_{entry_no}\")"
   ]
  },
  {
   "cell_type": "markdown",
   "id": "ad677d5e",
   "metadata": {},
   "source": [
    "## Existing drug case"
   ]
  },
  {
   "cell_type": "code",
   "execution_count": 21,
   "id": "984926e8",
   "metadata": {},
   "outputs": [
    {
     "name": "stdout",
     "output_type": "stream",
     "text": [
      " GENERATING ALL RADAR PLOTS\n",
      "==================================================\n",
      "\n",
      "Attempting Lipinski Rule of 5...\n",
      " Saved: visuals/new_venetoclax/lipinski_radar_plot.png\n",
      " Lipinski Rule of 5: SUCCESS\n",
      "\n",
      "Attempting Veber Rule...\n",
      " Saved: visuals/new_venetoclax/veber_radar_plot.png\n",
      " Veber Rule: SUCCESS\n",
      "\n",
      "Attempting Ghose Filter...\n",
      " Saved: visuals/new_venetoclax/ghose_radar_plot.png\n",
      " Ghose Filter: SUCCESS\n",
      "\n",
      "Attempting Rule of 3...\n",
      " Saved: visuals/new_venetoclax/rule_of_3_radar_plot.png\n",
      " Rule of 3: SUCCESS\n",
      "\n",
      "Attempting Oprea Lead-like...\n",
      " Saved: visuals/new_venetoclax/oprea_radar_plot.png\n",
      " Oprea Lead-like: SUCCESS\n",
      "\n",
      " RADAR PLOT SUMMARY:\n",
      "Successful plots: 5\n",
      "Failed/skipped: 0\n",
      "\n",
      " Successfully generated:\n",
      "  - Lipinski Rule of 5\n",
      "  - Veber Rule\n",
      "  - Ghose Filter\n",
      "  - Rule of 3\n",
      "  - Oprea Lead-like\n"
     ]
    },
    {
     "data": {
      "text/plain": [
       "{'successful': [('lipinski', 'Lipinski Rule of 5'),\n",
       "  ('veber', 'Veber Rule'),\n",
       "  ('ghose', 'Ghose Filter'),\n",
       "  ('rule_of_3', 'Rule of 3'),\n",
       "  ('oprea', 'Oprea Lead-like')],\n",
       " 'failed': [],\n",
       " 'total_attempted': 5}"
      ]
     },
     "execution_count": 21,
     "metadata": {},
     "output_type": "execute_result"
    }
   ],
   "source": [
    "import json\n",
    "with open(\"extraction.json\", \"r\") as f:\n",
    "    extraction = json.load(f)\n",
    "existing_drug = extraction['SMILES']\n",
    "\n",
    "prop_dict = drug_prop[drug_prop['SMILES'] == existing_drug].iloc[0].to_dict() #.to_dict()\n",
    "analyzer = DrugLikenessAnalyzer(data=prop_dict)\n",
    "analyzer.generate_all_radar_plots(save_directory=\"visuals/new_venetoclax\")"
   ]
  }
 ],
 "metadata": {
  "kernelspec": {
   "display_name": "reinvent4",
   "language": "python",
   "name": "python3"
  },
  "language_info": {
   "codemirror_mode": {
    "name": "ipython",
    "version": 3
   },
   "file_extension": ".py",
   "mimetype": "text/x-python",
   "name": "python",
   "nbconvert_exporter": "python",
   "pygments_lexer": "ipython3",
   "version": "3.10.18"
  }
 },
 "nbformat": 4,
 "nbformat_minor": 5
}
