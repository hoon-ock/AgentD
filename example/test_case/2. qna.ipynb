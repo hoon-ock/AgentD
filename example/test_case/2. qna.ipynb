{
 "cells": [
  {
   "cell_type": "code",
   "execution_count": 1,
   "id": "fd985680",
   "metadata": {},
   "outputs": [
    {
     "name": "stdout",
     "output_type": "stream",
     "text": [
      "Current working directory: /home/hoon/dd-agent/llm_dd/examples/testrun\n",
      "Home directory: /home/hoon/dd-agent/llm_dd\n"
     ]
    }
   ],
   "source": [
    "import os, sys\n",
    "cwd = os.getcwd()\n",
    "print(\"Current working directory:\", cwd)\n",
    "home_dir = os.path.dirname(os.path.dirname(cwd))\n",
    "print(\"Home directory:\", home_dir)\n",
    "sys.path.append(home_dir)"
   ]
  },
  {
   "cell_type": "code",
   "execution_count": 2,
   "id": "39de5cb2",
   "metadata": {},
   "outputs": [],
   "source": [
    "import json\n",
    "from agentD.agents import agentD\n",
    "from agentD.utils import get_tool_decorated_functions, custom_serializer\n",
    "from agentD.prompts.question_answering import PREFIX, SUFFIX, FORMAT_INSTRUCTIONS"
   ]
  },
  {
   "cell_type": "code",
   "execution_count": 3,
   "id": "1310a460",
   "metadata": {},
   "outputs": [],
   "source": [
    "tools = get_tool_decorated_functions(os.path.join(home_dir, \"agentD/tools/retrieval.py\"))\n",
    "tool_names = [tool.name for tool in tools]  \n",
    "tool_desc = [tool.description for tool in tools]"
   ]
  },
  {
   "cell_type": "markdown",
   "id": "44c31fd6",
   "metadata": {},
   "source": [
    "# Q&A"
   ]
  },
  {
   "cell_type": "code",
   "execution_count": 4,
   "id": "4d23b6bb",
   "metadata": {},
   "outputs": [
    {
     "name": "stderr",
     "output_type": "stream",
     "text": [
      "`embedding_function` is expected to be an Embeddings object, support for passing in a function will soon be removed.\n"
     ]
    }
   ],
   "source": [
    "Human_prompt = \"What is the primary mechanism by which ABT-199/venetoclax synergizes with proteasome inhibitors to induce apoptosis in cancer cells?\"\n",
    "\n",
    "input_data = {\n",
    "            \"input\": Human_prompt,\n",
    "            \"tools\": tools,\n",
    "            \"tool_names\": tool_names,\n",
    "            \"tool_desc\": tool_desc\n",
    "        }\n",
    "\n",
    "qna_agent = agentD(tools, \n",
    "               model=\"gpt-4o\",\n",
    "               prefix=PREFIX, \n",
    "               suffix=SUFFIX, \n",
    "               format_instructions=FORMAT_INSTRUCTIONS).agent"
   ]
  },
  {
   "cell_type": "code",
   "execution_count": 5,
   "id": "be891e6a",
   "metadata": {},
   "outputs": [
    {
     "name": "stdout",
     "output_type": "stream",
     "text": [
      "\n",
      "\n",
      "\u001b[1m> Entering new AgentExecutor chain...\u001b[0m\n",
      "\u001b[32;1m\u001b[1;3mThought: I need to find information on the mechanism by which ABT-199/venetoclax synergizes with proteasome inhibitors to induce apoptosis in cancer cells. I will use the question_answering tool to extract relevant information from the downloaded research papers.\n",
      "Action: question_answering\n",
      "Action Input: \"mechanism by which ABT-199/venetoclax synergizes with proteasome inhibitors to induce apoptosis in cancer cells\"\u001b[0m"
     ]
    },
    {
     "name": "stderr",
     "output_type": "stream",
     "text": [
      "invalid pdf header: b'<!DOC'\n",
      "EOF marker not found\n"
     ]
    },
    {
     "name": "stdout",
     "output_type": "stream",
     "text": [
      "Error processing papers/Potent_combination_benefit_of_the_AKT_inhibitor_capivasertib_and_the_BCL_2_inhibitor_venetoclax_in_d.pdf: Stream has ended unexpectedly\n",
      "\n",
      "Observation: \u001b[33;1m\u001b[1;3mABT-199/venetoclax synergizes with proteasome inhibitors to induce apoptosis in cancer cells through a multi-faceted mechanism. Venetoclax is a BCL-2 inhibitor that mimics the pro-apoptotic BH3-only proteins, blocking the anti-apoptotic BCL-2 proteins. This action is complemented by the proteasome inhibitors, which prevent the degradation of pro-apoptotic proteins such as NOXA. \n",
      "\n",
      "Venetoclax induces an integrated stress response (ISR) that leads to the transactivation of NOXA through transcription factors ATF3 and ATF4. NOXA specifically inhibits the anti-apoptotic protein MCL-1. By preventing the degradation of NOXA, proteasome inhibitors enhance its expression, thereby potentiating the apoptotic effect of venetoclax. This dual action—direct inhibition of BCL-2 by venetoclax and indirect inhibition of MCL-1 via NOXA—results in a synergistic induction of apoptosis. This synergy is particularly effective in cells where the pore-forming effector BAX is present, as BAX is crucial for mitochondrial outer membrane permeabilization and the subsequent apoptotic cascade.\u001b[0m\n",
      "Thought:\u001b[32;1m\u001b[1;3mHere's your final answer:\n",
      "Final Answer: ABT-199/venetoclax synergizes with proteasome inhibitors to induce apoptosis in cancer cells through a multi-faceted mechanism. Venetoclax, a BCL-2 inhibitor, blocks anti-apoptotic BCL-2 proteins, mimicking pro-apoptotic BH3-only proteins. Proteasome inhibitors prevent the degradation of pro-apoptotic proteins like NOXA. Venetoclax induces an integrated stress response, leading to NOXA transactivation via transcription factors ATF3 and ATF4. NOXA inhibits the anti-apoptotic protein MCL-1. Proteasome inhibitors enhance NOXA expression, potentiating venetoclax's apoptotic effect. This dual action—direct BCL-2 inhibition by venetoclax and indirect MCL-1 inhibition via NOXA—synergistically induces apoptosis, especially in cells with the pore-forming effector BAX, crucial for mitochondrial outer membrane permeabilization and the apoptotic cascade.\u001b[0m\n",
      "\n",
      "\u001b[1m> Finished chain.\u001b[0m\n"
     ]
    }
   ],
   "source": [
    "response = qna_agent.invoke(input_data)\n",
    "with open(\"response/qna.json\", \"w\", encoding=\"utf-8\") as f:\n",
    "    json.dump(response, f, indent=2, default=custom_serializer)"
   ]
  }
 ],
 "metadata": {
  "kernelspec": {
   "display_name": "reinvent4",
   "language": "python",
   "name": "python3"
  },
  "language_info": {
   "codemirror_mode": {
    "name": "ipython",
    "version": 3
   },
   "file_extension": ".py",
   "mimetype": "text/x-python",
   "name": "python",
   "nbconvert_exporter": "python",
   "pygments_lexer": "ipython3",
   "version": "3.10.18"
  }
 },
 "nbformat": 4,
 "nbformat_minor": 5
}
