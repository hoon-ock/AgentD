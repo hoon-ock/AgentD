{
 "cells": [
  {
   "cell_type": "code",
   "execution_count": 1,
   "metadata": {},
   "outputs": [
    {
     "name": "stdout",
     "output_type": "stream",
     "text": [
      "Current working directory: /home/hoon/dd-agent/llm_dd/examples/BCL-2\n",
      "Home directory: /home/hoon/dd-agent/llm_dd\n"
     ]
    }
   ],
   "source": [
    "import os, sys\n",
    "cwd = os.getcwd()\n",
    "print(\"Current working directory:\", cwd)\n",
    "home_dir = os.path.dirname(os.path.dirname(cwd))\n",
    "print(\"Home directory:\", home_dir)\n",
    "sys.path.append(home_dir)"
   ]
  },
  {
   "cell_type": "code",
   "execution_count": 2,
   "metadata": {},
   "outputs": [],
   "source": [
    "import json\n",
    "import warnings\n",
    "warnings.filterwarnings('ignore')\n",
    "from agentD.agents import agentD\n",
    "from agentD.analysis_utils import get_tool_decorated_functions, custom_serializer\n",
    "from agentD.prompts import FORMAT_INSTRUCTIONS"
   ]
  },
  {
   "cell_type": "code",
   "execution_count": 3,
   "metadata": {},
   "outputs": [],
   "source": [
    "ret_tools = get_tool_decorated_functions(os.path.join(home_dir, \"agentD/tools/retrieval.py\"))\n",
    "#comm_tools = get_tool_decorated_functions(os.path.join(home_dir, \"agentD/tools/common.py\"))\n",
    "lit_tools = get_tool_decorated_functions(os.path.join(home_dir, \"agentD/tools/lit_analysis.py\"))\n",
    "\n",
    "tools = ret_tools + lit_tools\n",
    "\n",
    "tool_names = [tool.name for tool in tools]  \n",
    "tool_desc = [tool.description for tool in tools]"
   ]
  },
  {
   "cell_type": "markdown",
   "metadata": {},
   "source": [
    "# Retrieval"
   ]
  },
  {
   "cell_type": "code",
   "execution_count": 4,
   "metadata": {},
   "outputs": [],
   "source": [
    "PREFIX = \"\"\"You are an AgentD, helpful and knowlegable AI chemist.\n",
    "Your task is to retrieve FASTA sequences for the target protein and SMILES for the drug taretting the protein.\n",
    "Also, download the relevant papers for the selected existing drug and the target protein.\n",
    "Always use the available tools, and if unsure, do not fabricate answers.\n",
    "\"\"\"\n",
    "\n",
    "SUFFIX = \"\"\"You MUST follow the protocol below to complete the task.\n",
    "\n",
    "1. Retrieve the UniProt IDs for the given protein. \n",
    "2. Decide the most relevant protein for our target. \n",
    "3. Retrieve FASTA sequence of the given protein from relevant database.\n",
    "4. Search an existing drug molecule for the target protein.\n",
    "5. Retrieve the SMILES of an existing drug from relevant database.\n",
    "6. For any molecular or sequence-related data (e.g., SMILES, FASTA, drug names), format the `Observation` output as a JSON dictionary with the following keys:\n",
    "   - \"uniprot_id\": protein Uniprot ID (if applicable)\n",
    "   - \"fasta\": FASTA string of the target protein (if applicable)\n",
    "   - \"drug_name\": name of the selected existing drug (list if multiple)\n",
    "   - \"SMILES\": SMILES string of the selected existing drug (list if multiple)\n",
    "7. Save the results from the previous step in a JSON file.\n",
    "8. Download the relevant papers for the selected existing drug and the target protein.\n",
    "   \n",
    "   \n",
    "---\n",
    "### Notes:\n",
    "- Begin by briefly stating the problem and how you will approach it.\n",
    "- Don't skip any steps.\n",
    "\n",
    "Now begin your task.\n",
    "\n",
    "Question: {input}\n",
    "Thought: {agent_scratchpad}\n",
    "\"\"\""
   ]
  },
  {
   "cell_type": "code",
   "execution_count": 5,
   "metadata": {},
   "outputs": [],
   "source": [
    "protein = \"BCL-2\"\n",
    "diesease = \"Lymphocytic leukemia\"\n",
    "Human_prompt = f\"Suggest the potential drug molecules for {diesease} targeting the protein {protein}.\"\n",
    "\n",
    "input_data = {\n",
    "            \"input\": Human_prompt,\n",
    "            \"tools\": tools,\n",
    "            \"tool_names\": tool_names,\n",
    "            \"tool_desc\": tool_desc\n",
    "        }"
   ]
  },
  {
   "cell_type": "code",
   "execution_count": 6,
   "metadata": {},
   "outputs": [
    {
     "name": "stderr",
     "output_type": "stream",
     "text": [
      "`embedding_function` is expected to be an Embeddings object, support for passing in a function will soon be removed.\n"
     ]
    }
   ],
   "source": [
    "agent = agentD(tools, \n",
    "               model=\"gpt-4o\",\n",
    "               prefix=PREFIX, \n",
    "               suffix=SUFFIX, \n",
    "               format_instructions=FORMAT_INSTRUCTIONS).agent"
   ]
  },
  {
   "cell_type": "code",
   "execution_count": 7,
   "metadata": {},
   "outputs": [
    {
     "name": "stdout",
     "output_type": "stream",
     "text": [
      "\n",
      "\n",
      "\u001b[1m> Entering new AgentExecutor chain...\u001b[0m\n",
      "\u001b[32;1m\u001b[1;3mI will start by retrieving the UniProt IDs for the protein BCL-2, which is associated with Lymphocytic leukemia. This will help me identify the most relevant protein for our target. Then, I will proceed to fetch the FASTA sequence for the identified UniProt ID. After that, I will search for an existing drug molecule targeting BCL-2 and retrieve its SMILES representation. Finally, I will download relevant papers for the selected drug and the target protein.\n",
      "\n",
      "Action: get_uniprot_ids\n",
      "Action Input: BCL-2\u001b[0m\n",
      "Observation: \u001b[33;1m\u001b[1;3m[('P10415', 'Apoptosis regulator Bcl-2')]\u001b[0m\n",
      "Thought:\u001b[32;1m\u001b[1;3mI have retrieved the UniProt ID for BCL-2, which is P10415, corresponding to the Apoptosis regulator Bcl-2. Next, I will fetch the FASTA sequence for this UniProt ID.\n",
      "\n",
      "Action: fetch_uniprot_fasta\n",
      "Action Input: P10415\u001b[0m\n",
      "Observation: \u001b[38;5;200m\u001b[1;3m>sp|P10415|BCL2_HUMAN Apoptosis regulator Bcl-2 OS=Homo sapiens OX=9606 GN=BCL2 PE=1 SV=2\n",
      "MAHAGRTGYDNREIVMKYIHYKLSQRGYEWDAGDVGAAPPGAAPAPGIFSSQPGHTPHPA\n",
      "ASRDPVARTSPLQTPAAPGAAAGPALSPVPPVVHLTLRQAGDDFSRRYRRDFAEMSSQLH\n",
      "LTPFTARGRFATVVEELFRDGVNWGRIVAFFEFGGVMCVESVNREMSPLVDNIALWMTEY\n",
      "LNRHLHTWIQDNGGWDAFVELYGPSMRPLFDFSWLSLKTLLSLALVGACITLGAYLGHK\n",
      "\u001b[0m\n",
      "Thought:\u001b[32;1m\u001b[1;3mI have successfully retrieved the FASTA sequence for the protein BCL-2 with UniProt ID P10415. Now, I will search for an existing drug molecule that targets BCL-2.\n",
      "\n",
      "Action: search\n",
      "Action Input: \"drug targeting BCL-2\"\u001b[0m\n",
      "Observation: \u001b[36;1m\u001b[1;3mThis review provides a comprehensive overview of the extensive preclinical and clinical studies targeting BCL-2 proteins with various BCL-2 proteins inhibitors. Inhibition of BCL-2 family proteins is a rational therapeutic option for malignancies that are dependent on antiapoptotic BCL-2 family proteins. Venetoclax is a highly targeted therapy, binding almost exclusively to BCL2 when used in clinically achievable concentrations. (A) An ... Navitoclax (ABT-263) is a BH3-mimetic drug that targets and inhibits Bcl-xL protein. It significantly reverses fibrosis in patients with scleroderma, a ... Navitoclax is a BH3 mimetic drug that binds to the BH3 domain of BCL-2 anti-apoptotic members. Upon administration, navitoclax binds to the BH3 binding groove ... BCL2 inhibitors are drugs that prompt cancer cells to die by altering the interactions among key proteins within the cells. BCL-X(L)-targeting antibody-drug conjugates are active in preclinical models and mitigate on-mechanism toxicity of small-molecule inhibitors. In 2017, there was a breakthrough, and several new drugs, including venetoclax and selective B cell lymphoma-2 (BCL-2) inhibitors, seemed to reshape the ... Targeting Bcl-2 family members with the BH3 mimetic AT-101 markedly enhances the therapeutic effects of chemotherapeutic agents in in vitro ... Tools that target Bcl-2's BH4 domain such as BIRD-2 elicit cell death in several cancer cell types and are complementary with BH3 mimetics.\u001b[0m\n",
      "Thought:\u001b[32;1m\u001b[1;3mI have identified Venetoclax as a highly targeted therapy that binds almost exclusively to BCL-2. I will now proceed to retrieve the SMILES representation for Venetoclax.\n",
      "\n",
      "Action: get_drug_smiles\n",
      "Action Input: Venetoclax\u001b[0m\n",
      "Observation: \u001b[33;1m\u001b[1;3mCC1(C)CCC(CN2CCN(c3ccc(C(=O)NS(=O)(=O)c4ccc(NCC5CCOCC5)c([N+](=O)[O-])c4)c(Oc4cnc5[nH]ccc5c4)c3)CC2)=C(c2ccc(Cl)cc2)C1\u001b[0m\n",
      "Thought:\u001b[32;1m\u001b[1;3mI have successfully retrieved the SMILES representation for Venetoclax. Now, I will format the molecular and sequence-related data as a JSON dictionary and save the results in a JSON file.\n",
      "\n",
      "Action: save_results\n",
      "Action Input: {\"uniprot_id\": \"P10415\", \"fasta\": \">sp|P10415|BCL2_HUMAN Apoptosis regulator Bcl-2 OS=Homo sapiens OX=9606 GN=BCL2 PE=1 SV=2\\nMAHAGRTGYDNREIVMKYIHYKLSQRGYEWDAGDVGAAPPGAAPAPGIFSSQPGHTPHPA\\nASRDPVARTSPLQTPAAPGAAAGPALSPVPPVVHLTLRQAGDDFSRRYRRDFAEMSSQLH\\nLTPFTARGRFATVVEELFRDGVNWGRIVAFFEFGGVMCVESVNREMSPLVDNIALWMTEY\\nLNRHLHTWIQDNGGWDAFVELYGPSMRPLFDFSWLSLKTLLSLALVGACITLGAYLGHK\", \"drug_name\": \"Venetoclax\", \"SMILES\": \"CC1(C)CCC(CN2CCN(c3ccc(C(=O)NS(=O)(=O)c4ccc(NCC5CCOCC5)c([N+](=O)[O-])c4)c(Oc4cnc5[nH]ccc5c4)c3)CC2)=C(c2ccc(Cl)cc2)C1\"}\u001b[0m\n",
      "Observation: \u001b[36;1m\u001b[1;3mSaved to extraction.json\u001b[0m\n",
      "Thought:\u001b[32;1m\u001b[1;3mI have saved the molecular and sequence-related data in a JSON file named \"extraction.json\". Now, I will proceed to download relevant papers for the selected drug, Venetoclax, and the target protein, BCL-2.\n",
      "\n",
      "Action: download_relevant_papers\n",
      "Action Input: \"Venetoclax and BCL-2\"\u001b[0mSearching for papers on: Venetoclax and BCL-2\n",
      "Failed to download: Targeting MCL‐1 and BCL‐2 with polatuzumab vedotin and venetoclax overcomes treatment resistance in R/R non‐Hodgkin lymphoma: Results from preclinical models and a Phase Ib study (https://onlinelibrary.wiley.com/doi/pdfdirect/10.1002/ajh.26809)\n",
      "Failed to download: Co‐Targeting c‐Myc and Bcl‐2 by Oral Small Molecule Combination of WBC100 and Venetoclax Effectively Controls Acute Myeloid Leukemia in Preclinical Models (https://onlinelibrary.wiley.com/doi/pdfdirect/10.1002/adtp.202300013)\n",
      "Failed to download: Combinatorial Inhibition of Focal Adhesion Kinase and BCL-2 Enhances Antileukemia Activity of Venetoclax in Acute Myeloid Leukemia (https://mct.aacrjournals.org/content/molcanther/19/8/1636.full.pdf)\n",
      "\n",
      "Observation: \u001b[38;5;200m\u001b[1;3m['papers/ABT_199__venetoclax__and_BCL_2_inhibitors_in_clinical_development.pdf', 'papers/Targeting_BCL_2_with_venetoclax_and_dexamethasone_in_patients_with_relapsed_refractory_t_11_14__mult.pdf', 'papers/Venetoclax_Induces_Cardiotoxicity_through_Modulation_of_Oxidative_Stress_Mediated_Cardiac_Inflammati.pdf', 'papers/Stroma_Mediated_Resistance_to_S63845_and_Venetoclax_through_MCL_1_and_BCL_2_Expression_Changes_Induc.pdf', 'papers/Preclinical_evaluation_of_the_simultaneous_inhibition_of_MCL_1_and_BCL_2_with_the_combination_of_S63.pdf', 'papers/Combined_Application_of_Pan_AKT_Inhibitor_MK_2206_and_BCL_2_Antagonist_Venetoclax_in_B_Cell_Precurso.pdf']\u001b[0m\n",
      "Thought:\u001b[32;1m\u001b[1;3mHere's your final answer:\n",
      "Final Answer: I have successfully completed the task. The UniProt ID for BCL-2 is P10415, and its FASTA sequence has been retrieved. Venetoclax is identified as a drug targeting BCL-2, and its SMILES representation is \"CC1(C)CCC(CN2CCN(c3ccc(C(=O)NS(=O)(=O)c4ccc(NCC5CCOCC5)c([N+](=O)[O-])c4)c(Oc4cnc5[nH]ccc5c4)c3)CC2)=C(c2ccc(Cl)cc2)C1\". The data has been saved in a JSON file named \"extraction.json\". Relevant papers on Venetoclax and BCL-2 have been downloaded, including titles such as \"ABT-199 (venetoclax) and BCL-2 inhibitors in clinical development\" and \"Targeting BCL-2 with venetoclax and dexamethasone in patients with relapsed/refractory t(11;14) multiple myeloma\".\u001b[0m\n",
      "\n",
      "\u001b[1m> Finished chain.\u001b[0m\n"
     ]
    }
   ],
   "source": [
    "response = agent.invoke(input_data)\n",
    "with open(\"response/extraction.json\", \"w\", encoding=\"utf-8\") as f:\n",
    "    json.dump(response, f, indent=2, default=custom_serializer)"
   ]
  },
  {
   "cell_type": "markdown",
   "metadata": {},
   "source": [
    "# Q&A"
   ]
  },
  {
   "cell_type": "code",
   "execution_count": null,
   "metadata": {},
   "outputs": [],
   "source": [
    "\n",
    "PREFIX = \"\"\"You are an AgentD, helpful and knowlegable AI chemist.\n",
    "Your task is to answer the given question based on the downloaded papers. \n",
    "Always use the available tools, and if unsure, do not fabricate answers.\n",
    "\"\"\"\n",
    "\n",
    "SUFFIX = \"\"\"You MUST follow the protocol below to complete the task.\n",
    "\n",
    "1. Answer the questions based on the downloaded papers.  \n",
    "---\n",
    "### Notes:\n",
    "- Begin by briefly stating the problem and how you will approach it.\n",
    "- Don't download the papers. It's already done.\n",
    "\n",
    "Now begin your task.\n",
    "\n",
    "Question: {input}\n",
    "Thought: {agent_scratchpad}\n",
    "\"\"\"\n",
    "\n",
    "FORMAT_INSTRUCTIONS = \"\"\"Use the following format:\n",
    "\n",
    "Question: the input question you must answer\n",
    "Thought: you should always think about what to do\n",
    "Action: the action to take, should be one of [{tool_names}]\n",
    "Action Input: the input to the action\n",
    "Observation: the result of the action\n",
    "... (this Thought/Action/Action Input/Observation can repeat N times)\n",
    "When you have a response to say to the Human, or if you do not need to use a tool, you MUST use the format:\n",
    "'''\n",
    "Thought: Here's your final answer:\n",
    "Final Answer: [your response here]\n",
    "'''\n",
    "\n",
    "Use the exact sequence without any \"\\n\" or any extra \"()\".\n",
    "\"\"\""
   ]
  },
  {
   "cell_type": "code",
   "execution_count": null,
   "metadata": {},
   "outputs": [],
   "source": [
    "Human_prompt = \"What are the implications of the findings regarding the combinatorial use of ABT-199 and proteasome inhibitors for treating solid tumors compared to hematologic malignancies?\"\n",
    "\n",
    "input_data = {\n",
    "            \"input\": Human_prompt,\n",
    "            # \"prompt\": RETRIEVAL_QA,\n",
    "            \"tools\": tools,\n",
    "            \"tool_names\": tool_names,\n",
    "            \"tool_desc\": tool_desc\n",
    "        }"
   ]
  },
  {
   "cell_type": "code",
   "execution_count": 22,
   "metadata": {},
   "outputs": [
    {
     "name": "stderr",
     "output_type": "stream",
     "text": [
      "`embedding_function` is expected to be an Embeddings object, support for passing in a function will soon be removed.\n"
     ]
    }
   ],
   "source": [
    "agent = agentD(tools, \n",
    "               model=\"gpt-4o\",\n",
    "               prefix=PREFIX, \n",
    "               suffix=SUFFIX, \n",
    "               format_instructions=FORMAT_INSTRUCTIONS).agent"
   ]
  },
  {
   "cell_type": "code",
   "execution_count": null,
   "metadata": {},
   "outputs": [
    {
     "name": "stdout",
     "output_type": "stream",
     "text": [
      "\n",
      "\n",
      "\u001b[1m> Entering new AgentExecutor chain...\u001b[0m\n",
      "\u001b[32;1m\u001b[1;3mAction: question_answering\n",
      "Action Input: What are the implications of the findings regarding the combinatorial use of ABT-199 and proteasome inhibitors for treating solid tumors compared to hematologic malignancies?\u001b[0m\n",
      "Observation: \u001b[33;1m\u001b[1;3mThe findings suggest that the combinatorial use of ABT-199 (venetoclax) and proteasome inhibitors (PIs) could have significant implications for treating both solid tumors and hematologic malignancies. In the context of solid tumors, such as soft tissue sarcoma, the combination has been shown to induce apoptosis synergistically. This is achieved through the transactivation of the pro-apoptotic protein NOXA, which inhibits the anti-apoptotic protein MCL-1, thereby enhancing the efficacy of ABT-199. This dual mechanism of action—direct inhibition of BCL-2 and indirect inhibition of MCL-1 via NOXA—suggests that the combination could be effective in solid tumors that overexpress these proteins.\n",
      "\n",
      "In hematologic malignancies, ABT-199 has already shown efficacy, particularly in diseases like chronic lymphocytic leukemia and multiple myeloma, which often overexpress BCL-2. The combination with PIs could potentially enhance treatment outcomes by addressing resistance mechanisms that involve MCL-1.\n",
      "\n",
      "Overall, these findings encourage further clinical evaluation of ABT-199 and PI combinations in various malignancies, potentially broadening the therapeutic options for both solid and hematologic cancers.\u001b[0m\n",
      "Thought:\u001b[32;1m\u001b[1;3mHere's your final answer:\n",
      "Final Answer: The findings indicate that combining ABT-199 (venetoclax) with proteasome inhibitors (PIs) could significantly impact the treatment of both solid tumors and hematologic malignancies. In solid tumors, such as soft tissue sarcoma, this combination synergistically induces apoptosis by activating the pro-apoptotic protein NOXA, which inhibits the anti-apoptotic protein MCL-1, enhancing ABT-199's efficacy. This dual action—direct BCL-2 inhibition and indirect MCL-1 inhibition—suggests effectiveness in solid tumors overexpressing these proteins. In hematologic malignancies, where ABT-199 is already effective, particularly in chronic lymphocytic leukemia and multiple myeloma, combining it with PIs could improve outcomes by overcoming resistance mechanisms involving MCL-1. These findings support further clinical evaluation of this combination in various cancers, potentially expanding therapeutic options for both solid and hematologic malignancies.\u001b[0m\n",
      "\n",
      "\u001b[1m> Finished chain.\u001b[0m\n"
     ]
    }
   ],
   "source": [
    "response = agent.invoke(input_data)\n",
    "with open(\"responses/q_n_a.json\", \"w\", encoding=\"utf-8\") as f:\n",
    "    json.dump(response, f, indent=2, default=custom_serializer)"
   ]
  },
  {
   "cell_type": "code",
   "execution_count": null,
   "metadata": {},
   "outputs": [],
   "source": []
  }
 ],
 "metadata": {
  "kernelspec": {
   "display_name": "reinvent4",
   "language": "python",
   "name": "python3"
  },
  "language_info": {
   "codemirror_mode": {
    "name": "ipython",
    "version": 3
   },
   "file_extension": ".py",
   "mimetype": "text/x-python",
   "name": "python",
   "nbconvert_exporter": "python",
   "pygments_lexer": "ipython3",
   "version": "3.10.17"
  }
 },
 "nbformat": 4,
 "nbformat_minor": 2
}
