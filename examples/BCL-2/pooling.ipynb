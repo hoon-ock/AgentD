{
 "cells": [
  {
   "cell_type": "code",
   "execution_count": 1,
   "metadata": {},
   "outputs": [
    {
     "name": "stdout",
     "output_type": "stream",
     "text": [
      "Current working directory: /home/hoon/dd-agent/llm_dd/examples/BCL-2\n",
      "Home directory: /home/hoon/dd-agent/llm_dd\n"
     ]
    }
   ],
   "source": [
    "import os, sys\n",
    "cwd = os.getcwd()\n",
    "print(\"Current working directory:\", cwd)\n",
    "home_dir = os.path.dirname(os.path.dirname(cwd))\n",
    "print(\"Home directory:\", home_dir)\n",
    "sys.path.append(home_dir)"
   ]
  },
  {
   "cell_type": "code",
   "execution_count": 2,
   "metadata": {},
   "outputs": [],
   "source": [
    "import json\n",
    "import warnings\n",
    "warnings.filterwarnings('ignore')\n",
    "from agentD.agents import agentD\n",
    "from agentD.analysis_utils import get_tool_decorated_functions, custom_serializer\n",
    "from agentD.prompts import FORMAT_INSTRUCTIONS"
   ]
  },
  {
   "cell_type": "code",
   "execution_count": 3,
   "metadata": {},
   "outputs": [],
   "source": [
    "ret_tools = get_tool_decorated_functions(os.path.join(home_dir, \"agentD/tools/retrieval.py\"))\n",
    "comm_tools = get_tool_decorated_functions(os.path.join(home_dir, \"agentD/tools/common.py\"))\n",
    "lit_tools = get_tool_decorated_functions(os.path.join(home_dir, \"agentD/tools/lit_analysis.py\"))\n",
    "pred_tools = get_tool_decorated_functions(os.path.join(home_dir, \"agentD/tools/prediction.py\"))\n",
    "gen_tools = get_tool_decorated_functions(os.path.join(home_dir, \"agentD/tools/generation.py\"))\n",
    "\n",
    "tools = gen_tools + ret_tools + pred_tools #pred_tools #ret_tools + comm_tools + lit_tools\n",
    "\n",
    "tool_names = [tool.name for tool in tools]  \n",
    "tool_desc = [tool.description for tool in tools]"
   ]
  },
  {
   "cell_type": "markdown",
   "metadata": {},
   "source": [
    "# Initial Pool"
   ]
  },
  {
   "cell_type": "code",
   "execution_count": 4,
   "metadata": {},
   "outputs": [],
   "source": [
    "PREFIX = \"\"\"You are AgentD, a highly knowledgeable and methodical AI chemist.\n",
    "Your objective is to generate a pool of drug-like molecules in SMILES format using structured, reproducible methods.\n",
    "You are provided with an existing drug name.\n",
    "Always utilize the designated tools, and if uncertain, refrain from generating speculative information.\n",
    "\"\"\"\n",
    "\n",
    "SUFFIX = \"\"\"You MUST adhere strictly to the following protocol to complete the task:\n",
    "\n",
    "1. Retrieve structurally **distinct molecules** in SMILES format from ChEMBL based on the given drug.  \n",
    "2. Retrieve structurally **similar molecules** in SMILES format from ChEMBL based on the given drug.  \n",
    "3. Prepare two REINVENT configuration files as follows:  \n",
    "   - One for the \"Mol2Mol\" model type. (save smi file) \n",
    "   - One for the \"Reinvent\" model type.  \n",
    "4. Execute REINVENT using both configuration files. \n",
    "   \n",
    "---\n",
    "### Notes:\n",
    "- Begin by briefly stating the problem and how you will approach it.\n",
    "- Don't skip any steps.\n",
    "\n",
    "Now begin your task.\n",
    "\n",
    "Question: {input}\n",
    "Thought: {agent_scratchpad}\n",
    "\"\"\""
   ]
  },
  {
   "cell_type": "code",
   "execution_count": 5,
   "metadata": {},
   "outputs": [
    {
     "name": "stdout",
     "output_type": "stream",
     "text": [
      "Initial SMILES: CC1(C)CCC(CN2CCN(c3ccc(C(=O)NS(=O)(=O)c4ccc(NCC5CCOCC5)c([N+](=O)[O-])c4)c(Oc4cnc5[nH]ccc5c4)c3)CC2)=C(c2ccc(Cl)cc2)C1\n"
     ]
    }
   ],
   "source": [
    "with open(\"extraction.json\", 'r') as f:\n",
    "    data = json.load(f)\n",
    "\n",
    "initial_smiles = data.get(\"SMILES\", \"\")\n",
    "print(\"Initial SMILES:\", initial_smiles)\n",
    "Human_prompt = f\"Create a pool of drug-like molecules based on the existing drug molecule, {initial_smiles}.\"\n",
    "\n",
    "input_data = {\n",
    "            \"input\": Human_prompt,\n",
    "            \"tools\": tools,\n",
    "            \"tool_names\": tool_names,\n",
    "            \"tool_desc\": tool_desc\n",
    "        }"
   ]
  },
  {
   "cell_type": "code",
   "execution_count": 6,
   "metadata": {},
   "outputs": [
    {
     "name": "stderr",
     "output_type": "stream",
     "text": [
      "`embedding_function` is expected to be an Embeddings object, support for passing in a function will soon be removed.\n"
     ]
    }
   ],
   "source": [
    "agent = agentD(tools, \n",
    "               model=\"gpt-4o\",\n",
    "               prefix=PREFIX, \n",
    "               suffix=SUFFIX,\n",
    "               format_instructions=FORMAT_INSTRUCTIONS).agent"
   ]
  },
  {
   "cell_type": "code",
   "execution_count": 7,
   "metadata": {},
   "outputs": [
    {
     "name": "stdout",
     "output_type": "stream",
     "text": [
      "\n",
      "\n",
      "\u001b[1m> Entering new AgentExecutor chain...\u001b[0m\n",
      "\u001b[32;1m\u001b[1;3mI will generate a pool of drug-like molecules based on the given SMILES string by following these steps:\n",
      "\n",
      "1. Retrieve structurally distinct molecules in SMILES format from ChEMBL based on the given drug.\n",
      "2. Retrieve structurally similar molecules in SMILES format from ChEMBL based on the given drug.\n",
      "3. Prepare two REINVENT configuration files:\n",
      "   - One for the \"Mol2Mol\" model type.\n",
      "   - One for the \"Reinvent\" model type.\n",
      "4. Execute REINVENT using both configuration files.\n",
      "\n",
      "Let's start by retrieving structurally distinct molecules.\n",
      "\n",
      "Action: get_dissimilar_molecules\n",
      "Action Input: CC1(C)CCC(CN2CCN(c3ccc(C(=O)NS(=O)(=O)c4ccc(NCC5CCOCC5)c([N+](=O)[O-])c4)c(Oc4cnc5[nH]ccc5c4)c3)CC2)=C(c2ccc(Cl)cc2)C1\u001b[0mDissimilar molecules saved to /home/hoon/dd-agent/llm_dd/examples/BCL-2/pool/dissimilar_molecules.csv\n",
      "\n",
      "Observation: \u001b[36;1m\u001b[1;3m['CC1(C)CCC(c2ccc(Cl)cc2)=C(CN2CCN(c3ccc4c(NS(=O)(=O)c5ccc(N[C@H](CCN6CCOCC6)CSc6ccccc6)c([N+](=O)[O-])c5)ncnc4c3)CC2)C1', 'CC1(C)CCC(c2ccc(Cl)cc2)=C(CN2CCN(c3ccc(C(=O)NS(=O)(=O)c4ccc(N[C@@H](CC5CC5)C(=O)N5CCOCC5)c(S(=O)(=O)C(F)(F)F)c4)cc3)CC2)C1', 'CC1(C)CC(c2ccc(Cl)cc2)=C2CN3CCN(c4ccc(C(=O)NS(=O)(=O)c5ccc(NC[C@H]6CC[C@](C)(O)CC6)c(Cl)c5)c(N5CCCOc6nc7[nH]ccc7cc65)c4)C[C@H]3COCCCO[C@@H]2C1', 'CN(C)CC[C@H](CSc1ccccc1)Nc1ccc(S(=O)(=O)NC(=O)c2ccc(N3CCN(CC4=C(c5ccc(Cl)cc5)CCC4)CC3)cc2)cc1[N+](=O)[O-]', 'CC(c1ccccc1-c1ccc(Cl)cc1)N1CCN(c2ccc(C(=O)NS(=O)(=O)c3ccc(NN4CCN(C)CC4)c([N+](=O)[O-])c3)c(Oc3cccc4[nH]ccc34)c2)CC1', 'CN(C)CC[C@H](Nc1ccc(S(=O)(=O)NC(=O)c2ccc(N3CCN(Cc4ccccc4-c4ccc(Cl)cc4)CC3)cc2Oc2ccccc2)cc1[N+](=O)[O-])c1cccs1', 'CN(C)CCCNc1ccc(S(=O)(=O)NC(=O)c2ccc(N3CCN(Cc4ccccc4-c4ccc(Cl)cc4)CC3)cc2Oc2ccc3[nH]ccc3c2)cc1S(=O)(=O)C(F)(F)F', 'CN(C)CC[C@H](CSc1ccccc1)Nc1ccc(S(=O)(=O)NC(=O)c2ccc(N3CCN(CC4=C(c5ccc(Cl)cc5)CCCC4)CC3)cc2)cc1[N+](=O)[O-]', 'CC1(C)CCC(c2ccc(Cl)cc2)=C(CN2CCN(c3ccc(C(=O)NS(=O)(=O)c4ccc(N[C@H](CCN5CCOCC5)CSc5ccccc5)c(S(=O)(=O)C(F)(F)F)c4)cc3)CC2)C1.Cl.Cl', 'Cc1ccc(S(=O)(=O)NC(=O)c2ccc(N3CCN(Cc4ccccc4-c4ccc(Cl)cc4)CC3)cc2Oc2ccccc2)cc1', 'CN(C)CC[C@H](CSc1ccccc1)Nc1ccc(S(=O)(=O)NC(=O)c2ccc(N3CCN(C/C4=C(\\\\c5ccc(Cl)cc5)CCCCCC4)CC3)cc2)cc1[N+](=O)[O-]', 'O=C(NS(=O)(=O)c1ccc(NCCCN2CCOCC2)c(S(=O)(=O)C(F)(F)F)c1)c1ccc(N2CCN(Cc3ccccc3-c3ccc(Cl)cc3)CC2)cc1Oc1cccc2[nH]ccc12', 'CN(C)CCOc1ccc(-c2ccc(Cl)cc2)c(CN2CCN(c3ccc(C(=O)NS(=O)(=O)c4ccc(NN5CCN(C)CC5)c([N+](=O)[O-])c4)c(Oc4cccc5[nH]ccc45)c3)CC2)c1', 'CC1(C)CN(c2ccc(S(=O)(=O)NC(=O)c3ccc(N4CCN(Cc5ccccc5-c5ccc(Cl)cc5)CC4)cc3Oc3ccccc3)cc2)C1=O', 'CC(c1ccccc1-c1ccc(Cl)cc1)N1CCN(c2ccc(C(=O)NS(=O)(=O)c3ccc(NC4CCN(C)CC4)c([N+](=O)[O-])c3)c(Oc3ccccc3Cl)c2)CC1', 'CC1(C)CCC(c2ccc(Cl)cc2)=C(CN2CCN(c3ccc(C(=O)NS(=O)(=O)c4ccc(OCC5(CN6CCOCC6)COC5)c(S(=O)(=O)C(F)(F)F)c4)cc3)CC2)C1', 'COc1ccc(S(=O)(=O)NC(=O)c2ccc(N3CCN(Cc4ccccc4-c4ccc(Cl)cc4)CC3)cc2Oc2ccccc2)cc1', 'CN(C)CCCOc1ccc(S(=O)(=O)NC(=O)c2ccc(N3CCN(Cc4ccccc4-c4ccc(Cl)cc4)CC3)cc2Oc2ccccc2)cc1[N+](=O)[O-]', 'CN(C)CCCN(C)c1ccc(S(=O)(=O)NC(=O)c2ccc(N3CCN(Cc4ccccc4-c4ccc(Cl)cc4)CC3)cc2Oc2ccccc2)cc1[N+](=O)[O-]', 'CC1(C)CCC(c2ccc(Cl)cc2)=C(CN2CCN(c3ccc(C(=O)NS(=O)(=O)c4ccc(N[C@H](CCN5CCOCC5)CSc5ccccc5)c(S(=O)(=O)C(F)(F)F)c4)cc3)CC2)C1']\u001b[0m\n",
      "Thought:\u001b[32;1m\u001b[1;3mI have successfully retrieved structurally distinct molecules in SMILES format based on the given drug. Now, I will proceed to retrieve structurally similar molecules.\n",
      "\n",
      "Action: get_similar_molecules\n",
      "Action Input: CC1(C)CCC(CN2CCN(c3ccc(C(=O)NS(=O)(=O)c4ccc(NCC5CCOCC5)c([N+](=O)[O-])c4)c(Oc4cnc5[nH]ccc5c4)c3)CC2)=C(c2ccc(Cl)cc2)C1\u001b[0mSimilar molecules saved to /home/hoon/dd-agent/llm_dd/examples/BCL-2/pool/similar_molecules.csv\n",
      "\n",
      "Observation: \u001b[33;1m\u001b[1;3m['CC1(C)CCC(CN2CCN(c3ccc(C(=O)NS(=O)(=O)c4ccc(NCC5CCN(C6CC6)CC5)c([N+](=O)[O-])c4)c(Oc4cnc5[nH]ccc5c4)c3)CC2)=C(c2ccc(Cl)cc2)C1', 'CC1(C)CCC(CN2CCN(c3ccc(C(=O)NS(=O)(=O)c4ccc(NCC5CCC(C)(O)CC5)c([N+](=O)[O-])c4)c(Oc4cnc5[nH]ccc5c4)c3)CC2)=C(c2ccc(Cl)cc2)C1', 'CC1(C)CCC(CN2CCN(c3ccc(C(=O)NS(=O)(=O)c4ccc(NCC5CCC(F)(F)CC5)c([N+](=O)[O-])c4)c(Oc4cnc5[nH]ccc5c4)c3)CC2)=C(c2ccc(Cl)cc2)C1', 'O=C(NS(=O)(=O)c1ccc(NCC2CCOCC2)c([N+](=O)[O-])c1)c1ccc(N2CCN(CC3=C(c4ccc(Cl)cc4)CC4(CC3)CC4)CC2)cc1Oc1cnc2[nH]ccc2c1', 'CC1(C)CCC(CN2CCN(c3ccc(C(=O)NS(=O)(=O)c4ccc(NCC5CCN(C6COC6)CC5)c([N+](=O)[O-])c4)c(Oc4cnc5[nH]ccc5c4)c3)CC2)=C(c2ccc(Cl)cc2)C1', 'CN1CCC(CNc2ccc(S(=O)(=O)NC(=O)c3ccc(N4CCN(CC5=C(c6ccc(Cl)cc6)CC(C)(C)CC5)CC4)cc3Oc3cnc4[nH]ccc4c3)cc2[N+](=O)[O-])CC1', 'CC1(C)CCC(CN2CCN(c3ccc(C(=O)NS(=O)(=O)c4ccc(NC[C@H]5CCCOC5)c([N+](=O)[O-])c4)c(Oc4cnc5[nH]ccc5c4)c3)CC2)=C(c2ccc(Cl)cc2)C1', 'CC1(C)CCC(CN2CCN(c3ccc(C(=O)NS(=O)(=O)c4ccc(NC[C@@H]5CCCOC5)c([N+](=O)[O-])c4)c(Oc4cnc5[nH]ccc5c4)c3)CC2)=C(c2ccc(Cl)cc2)C1', 'CC1(C)CCC(CN2CCN(c3ccc(C(=O)NS(=O)(=O)c4ccc(NCC5CCC6(CC5)COC6)c([N+](=O)[O-])c4)c(Oc4cnc5[nH]ccc5c4)c3)CC2)=C(c2ccc(Cl)cc2)C1', 'CC1(C)CCC(CN2CCN(c3ccc(C(=O)NS(=O)(=O)c4ccc(NC[C@@H]5CCN(C6CCOCC6)C5)c([N+](=O)[O-])c4)c(Oc4cnc5[nH]ccc5c4)c3)CC2)=C(c2ccc(Cl)cc2)C1', 'CC1(C)CCC(CN2CCN(c3ccc(C(=O)NS(=O)(=O)c4ccc(NC[C@H]5CCN(C6CCOCC6)C5)c([N+](=O)[O-])c4)c(Oc4cnc5[nH]ccc5c4)c3)CC2)=C(c2ccc(Cl)cc2)C1', 'CC1(C)CCC(c2ccc(Cl)cc2)=C(CN2CCN(c3ccc(C(=O)NS(=O)(=O)c4ccc(NCC5CCOCC5)c([N+](=O)[O-])c4)c(Oc4cnc5[nH]ccc5c4)c3)CC2)C1', 'COc1ccc(C2=C(CN3CCN(c4ccc(C(=O)NS(=O)(=O)c5ccc(NCC6CCOCC6)c([N+](=O)[O-])c5)c(Oc5cnc6[nH]ccc6c5)c4)CC3)CCC(C)(C)C2)cc1', 'CC1(C)CCC(CN2CCN(c3ccc(C(=O)NS(=O)(=O)c4ccc(NCC5CCOC5)c([N+](=O)[O-])c4)c(Oc4cnc5[nH]ccc5c4)c3)CC2)=C(c2ccc(Cl)cc2)C1']\u001b[0m\n",
      "Thought:\u001b[32;1m\u001b[1;3mI have successfully retrieved both structurally distinct and similar molecules in SMILES format based on the given drug. Now, I will proceed to prepare two REINVENT configuration files:\n",
      "\n",
      "1. One for the \"Mol2Mol\" model type.\n",
      "2. One for the \"Reinvent\" model type.\n",
      "\n",
      "Let's start by preparing the configuration file for the \"Mol2Mol\" model type by saving the SMILES string.\n",
      "\n",
      "Action: save_smi_for_mol2mol\n",
      "Action Input: CC1(C)CCC(CN2CCN(c3ccc(C(=O)NS(=O)(=O)c4ccc(NCC5CCOCC5)c([N+](=O)[O-])c4)c(Oc4cnc5[nH]ccc5c4)c3)CC2)=C(c2ccc(Cl)cc2)C1\u001b[0mSMILES saved to configs/mol2mol.smi\n",
      "\n",
      "Observation: \u001b[33;1m\u001b[1;3msmi file updated with the smiles at 'configs/mol2mol.smi'\u001b[0m\n",
      "Thought:\u001b[32;1m\u001b[1;3mI have successfully saved the SMILES string for the \"Mol2Mol\" model type. Now, I will update the REINVENT configuration file for the \"Mol2Mol\" model type.\n",
      "\n",
      "Action: update_reinvent_config\n",
      "Action Input: Mol2Mol\u001b[0mUpdated TOML file saved to: configs/Mol2Mol.toml\n",
      "\n",
      "Observation: \u001b[36;1m\u001b[1;3mconfigs/Mol2Mol.toml\u001b[0m\n",
      "Thought:\u001b[32;1m\u001b[1;3mI have successfully updated the REINVENT configuration file for the \"Mol2Mol\" model type. Now, I will proceed to update the REINVENT configuration file for the \"Reinvent\" model type.\n",
      "\n",
      "Action: update_reinvent_config\n",
      "Action Input: Reinvent\u001b[0mUpdated TOML file saved to: configs/Reinvent.toml\n",
      "\n",
      "Observation: \u001b[36;1m\u001b[1;3mconfigs/Reinvent.toml\u001b[0m\n",
      "Thought:\u001b[32;1m\u001b[1;3mI have successfully updated the REINVENT configuration file for the \"Reinvent\" model type. Now, I will proceed to execute REINVENT using both configuration files.\n",
      "\n",
      "First, I will run REINVENT with the \"Mol2Mol\" configuration file.\n",
      "\n",
      "Action: run_reinvent\n",
      "Action Input: configs/Mol2Mol.toml\u001b[0m\n",
      "Observation: \u001b[38;5;200m\u001b[1;3mREINVENT execution completed successfully.\u001b[0m\n",
      "Thought:\u001b[32;1m\u001b[1;3mI have successfully executed REINVENT using the \"Mol2Mol\" configuration file. Now, I will proceed to execute REINVENT using the \"Reinvent\" configuration file.\n",
      "\n",
      "Action: run_reinvent\n",
      "Action Input: configs/Reinvent.toml\u001b[0m\n",
      "Observation: \u001b[38;5;200m\u001b[1;3mREINVENT execution completed successfully.\u001b[0m\n",
      "Thought:\u001b[32;1m\u001b[1;3mI have successfully executed REINVENT using both the \"Mol2Mol\" and \"Reinvent\" configuration files. This process has generated a pool of drug-like molecules based on the given drug molecule.\n",
      "\n",
      "Final Answer: The pool of drug-like molecules has been successfully generated using the REINVENT framework, based on the provided drug molecule.\u001b[0m\n",
      "\n",
      "\u001b[1m> Finished chain.\u001b[0m\n"
     ]
    }
   ],
   "source": [
    "response = agent.invoke(input_data)\n",
    "with open(\"response/pooling.json\", \"w\", encoding=\"utf-8\") as f:\n",
    "    json.dump(response, f, indent=2, default=custom_serializer)"
   ]
  }
 ],
 "metadata": {
  "kernelspec": {
   "display_name": "reinvent4",
   "language": "python",
   "name": "python3"
  },
  "language_info": {
   "codemirror_mode": {
    "name": "ipython",
    "version": 3
   },
   "file_extension": ".py",
   "mimetype": "text/x-python",
   "name": "python",
   "nbconvert_exporter": "python",
   "pygments_lexer": "ipython3",
   "version": "3.10.17"
  }
 },
 "nbformat": 4,
 "nbformat_minor": 2
}
