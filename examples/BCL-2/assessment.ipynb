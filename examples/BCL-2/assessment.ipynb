{
 "cells": [
  {
   "cell_type": "code",
   "execution_count": 1,
   "id": "2591c647",
   "metadata": {},
   "outputs": [
    {
     "name": "stdout",
     "output_type": "stream",
     "text": [
      "Current working directory: /home/hoon/dd-agent/llm_dd/examples/BCL-2\n",
      "Home directory: /home/hoon/dd-agent/llm_dd\n"
     ]
    }
   ],
   "source": [
    "import os, sys\n",
    "cwd = os.getcwd()\n",
    "print(\"Current working directory:\", cwd)\n",
    "home_dir = os.path.dirname(os.path.dirname(cwd))\n",
    "print(\"Home directory:\", home_dir)\n",
    "sys.path.append(home_dir)"
   ]
  },
  {
   "cell_type": "code",
   "execution_count": 2,
   "id": "9558eb23",
   "metadata": {},
   "outputs": [],
   "source": [
    "import json\n",
    "import pandas as pd\n",
    "import warnings\n",
    "warnings.filterwarnings('ignore')\n",
    "from agentD.agents import agentD\n",
    "from agentD.analysis_utils import get_tool_decorated_functions, custom_serializer, rule_based_evaluation\n",
    "from agentD.prompts import FORMAT_INSTRUCTIONS"
   ]
  },
  {
   "cell_type": "code",
   "execution_count": 3,
   "id": "22b0172f",
   "metadata": {},
   "outputs": [],
   "source": [
    "ret_tools = get_tool_decorated_functions(os.path.join(home_dir, \"agentD/tools/retrieval.py\"))\n",
    "#comm_tools = get_tool_decorated_functions(os.path.join(home_dir, \"agentD/tools/common.py\"))\n",
    "lit_tools = get_tool_decorated_functions(os.path.join(home_dir, \"agentD/tools/lit_analysis.py\"))\n",
    "pred_tools = get_tool_decorated_functions(os.path.join(home_dir, \"agentD/tools/prediction.py\"))\n",
    "gen_tools = get_tool_decorated_functions(os.path.join(home_dir, \"agentD/tools/generation.py\"))\n",
    "\n",
    "tools = gen_tools + ret_tools + pred_tools #pred_tools #ret_tools + comm_tools + lit_tools\n",
    "\n",
    "tool_names = [tool.name for tool in tools]  \n",
    "tool_desc = [tool.description for tool in tools]"
   ]
  },
  {
   "cell_type": "markdown",
   "id": "d36c4390",
   "metadata": {},
   "source": [
    "# Objective Downselection"
   ]
  },
  {
   "cell_type": "code",
   "execution_count": 4,
   "id": "3c27558e",
   "metadata": {},
   "outputs": [],
   "source": [
    "PREFIX = \"\"\"You are AgentD, an AI chemist with expertise in molecular property analysis and scoring.\n",
    "\n",
    "Your task is to determine the given molecule as a drug candidate for the specified target protein.\n",
    "Consider that this is an initial screening to keep a wide range of drug-like molecules. \n",
    "Also, include critical issues that may affect its drug-likeness in your assessment.\n",
    "\"\"\"\n",
    "\n",
    "SUFFIX = \"\"\"You MUST adhere strictly to the following protocol to complete the task:\n",
    " \n",
    "1. Identify critical properties relevant to the given screening objective.\n",
    "   - Focus primarily on property interpretations.\n",
    "2. Determine the given molecule as a drug candidate based on the selected properties. (Yes or No)\n",
    "3. Review the validity of the answer.\n",
    "4. Provide a final assessment answer with potential critical issues.\n",
    "\n",
    "---\n",
    "### Notes:\n",
    "- Start by clearly stating the problem and the planned approach.\n",
    "- Follow the outlined steps systematically without skipping any.\n",
    "- Make sure to start the final answer with \"YES\" or \"NO\" and then provide the rationale. \n",
    "- If there's any critical issue, you should reject the molecule.\n",
    "\n",
    "Now begin your task.\n",
    "\n",
    "Question: {input}\n",
    "Thought: {agent_scratchpad}\n",
    "\"\"\""
   ]
  },
  {
   "cell_type": "code",
   "execution_count": 5,
   "id": "706d10de",
   "metadata": {},
   "outputs": [
    {
     "name": "stderr",
     "output_type": "stream",
     "text": [
      "`embedding_function` is expected to be an Embeddings object, support for passing in a function will soon be removed.\n"
     ]
    }
   ],
   "source": [
    "agent = agentD(tools, \n",
    "               model=\"gpt-4o\",\n",
    "               prefix=PREFIX, \n",
    "               suffix=SUFFIX, \n",
    "               format_instructions=FORMAT_INSTRUCTIONS).agent"
   ]
  },
  {
   "cell_type": "code",
   "execution_count": 6,
   "id": "3ff2fa7f",
   "metadata": {},
   "outputs": [],
   "source": [
    "def process_dataset_with_agent(file_path: str, protein: str, objective: str, agent) -> pd.DataFrame:\n",
    "    \"\"\"\n",
    "    Reads the dataset and applies the LLM-driven analysis to each entry.\n",
    "\n",
    "    Args:\n",
    "        file_path (str): Path to the dataset file.\n",
    "        protein (str): Target protein for drug analysis.\n",
    "        objective (str): Target objective for drug analysis.\n",
    "        agent: The LLM agent object.\n",
    "\n",
    "    Returns:\n",
    "        pd.DataFrame: DataFrame with the original data and LLM assessments.\n",
    "    \"\"\"\n",
    "    # Read dataset\n",
    "    df = pd.read_csv(file_path)\n",
    "\n",
    "    # Prepare list to store output\n",
    "    results = []\n",
    "\n",
    "    # Iterate through each row\n",
    "    for _, row in df.iterrows():\n",
    "        # rule-based evaluation\n",
    "        entry = row.to_dict()\n",
    "        report = rule_based_evaluation(entry)\n",
    "        report.pop('smiles', None)\n",
    "        smiles = row['SMILES']\n",
    "        prompt = (\n",
    "            f\"Determine whether the given molecule is applicable as a potential drug targeting {protein}. \"\n",
    "            f\"The screening objective is good {objective}-related properties. \"\n",
    "            f\"The molecule's properties are: {entry}.\"\n",
    "        )\n",
    "        input_data = {\"input\": prompt}\n",
    "        \n",
    "        try:\n",
    "            response = agent.invoke(input_data)\n",
    "            assessment = response.get('output', 'No response')\n",
    "        except Exception as e:\n",
    "            assessment = f\"Error: {str(e)}\"\n",
    "\n",
    "        results.append({'SMILES': smiles, 'LLM_Assessment': assessment, **report})\n",
    "\n",
    "    # Create and return the new DataFrame\n",
    "    return pd.DataFrame(results)\n"
   ]
  },
  {
   "cell_type": "code",
   "execution_count": null,
   "id": "f0889340",
   "metadata": {},
   "outputs": [
    {
     "name": "stderr",
     "output_type": "stream",
     "text": [
      "`embedding_function` is expected to be an Embeddings object, support for passing in a function will soon be removed.\n"
     ]
    },
    {
     "name": "stdout",
     "output_type": "stream",
     "text": [
      "\n",
      "\n",
      "\u001b[1m> Entering new AgentExecutor chain...\u001b[0m\n",
      "\u001b[32;1m\u001b[1;3mThe task is to determine whether the given molecule is a suitable drug candidate targeting BCL-2, focusing on absorption-related properties. The molecule's properties include various absorption, distribution, metabolism, excretion, and toxicity (ADMET) predictions.\n",
      "\n",
      "1. **Absorption Properties:**\n",
      "   - **Caco-2 Permeability:** The prediction is -5.66, which is low and indicates poor permeability.\n",
      "   - **Human Oral Bioavailability:** Predicted as bioavailable with medium to high confidence.\n",
      "   - **Human Intestinal Absorption:** Predicted as absorbed with high confidence.\n",
      "   - **P-Glycoprotein Interaction:** The molecule is both an inhibitor and a substrate, which could affect absorption and distribution.\n",
      "\n",
      "2. **Distribution Properties:**\n",
      "   - **Blood-Brain Barrier Penetration:** Predicted as non-penetrable with high confidence, which is acceptable for non-CNS targets.\n",
      "   - **Plasma Protein Binding:** 78.34%, which is within an acceptable range for therapeutic molecules.\n",
      "\n",
      "3. **Metabolism Properties:**\n",
      "   - **CYP Interactions:** The molecule is a CYP 2C9 inhibitor, which could lead to drug-drug interactions.\n",
      "\n",
      "4. **Excretion Properties:**\n",
      "   - **Clearance and Half-Life:** Predicted half-life is less than 3 hours, which might require frequent dosing.\n",
      "\n",
      "5. **Toxicity Properties:**\n",
      "   - **Liver Injury:** Predicted as toxic with medium to high confidence, which is a critical issue.\n",
      "   - **Micronucleus Formation:** Predicted as toxic with high confidence, indicating potential genotoxicity.\n",
      "   - **Respiratory Disease:** Predicted as toxic with high confidence.\n",
      "\n",
      "6. **General Properties:**\n",
      "   - **Log P and Log D:** Within the proper range, indicating acceptable lipophilicity.\n",
      "   - **Solubility (Log S):** Within the acceptable range.\n",
      "\n",
      "**Critical Issues:**\n",
      "- The molecule shows poor Caco-2 permeability, which is a significant concern for oral absorption.\n",
      "- It is predicted to cause liver injury and genotoxicity, which are critical safety issues.\n",
      "- The molecule's interaction with P-glycoprotein and CYP enzymes could lead to drug-drug interactions.\n",
      "\n",
      "Given these considerations, the molecule has significant absorption and toxicity issues that outweigh its potential as a drug candidate for BCL-2.\n",
      "\n",
      "Final Answer: NO. The molecule is not a suitable drug candidate due to poor Caco-2 permeability, potential liver toxicity, and genotoxicity, which are critical issues for drug-likeness.\u001b[0m\n",
      "\n",
      "\u001b[1m> Finished chain.\u001b[0m\n",
      "\n",
      "\n",
      "\u001b[1m> Entering new AgentExecutor chain...\u001b[0m\n",
      "\u001b[32;1m\u001b[1;3mThe task is to determine if the given molecule is a suitable drug candidate targeting BCL-2, focusing on absorption-related properties. Here's the approach:\n",
      "\n",
      "1. **Identify Critical Properties**: Focus on absorption properties such as Caco-2 permeability, human oral bioavailability, intestinal absorption, and P-glycoprotein interactions.\n",
      "\n",
      "2. **Determine Drug Candidacy**: Evaluate the molecule based on these properties and decide if it is a viable candidate.\n",
      "\n",
      "3. **Review Validity**: Ensure the decision is based on accurate interpretation of the data.\n",
      "\n",
      "4. **Final Assessment**: Provide a conclusion with any critical issues.\n",
      "\n",
      "Let's analyze the properties:\n",
      "\n",
      "- **Caco-2 Permeability**: The prediction is -5.56, which is low, indicating poor permeability.\n",
      "- **Human Oral Bioavailability**: Predicted as bioavailable with high confidence.\n",
      "- **Human Intestinal Absorption**: Predicted as absorbed with high confidence.\n",
      "- **P-Glycoprotein**: Predicted as both an inhibitor and substrate, which could affect drug absorption and distribution.\n",
      "\n",
      "Critical Issues:\n",
      "- The low Caco-2 permeability is a significant concern as it suggests poor absorption through the intestinal barrier.\n",
      "- Being a P-glycoprotein inhibitor and substrate could lead to drug-drug interactions and affect absorption and distribution.\n",
      "\n",
      "Given these points, the molecule has some favorable absorption properties but also critical issues that could impact its drug-likeness.\n",
      "\n",
      "Final Decision:\n",
      "- **YES**: The molecule shows potential as a drug candidate due to good oral bioavailability and intestinal absorption.\n",
      "- **Critical Issues**: Low Caco-2 permeability and P-glycoprotein interactions are concerns that need addressing in further development.\n",
      "\n",
      "Final Answer: YES, the molecule is a potential drug candidate for BCL-2, but low Caco-2 permeability and P-glycoprotein interactions are critical issues.\u001b[0m\n",
      "\n",
      "\u001b[1m> Finished chain.\u001b[0m\n"
     ]
    }
   ],
   "source": [
    "protein = \"BCL-2\"\n",
    "objective = \"absorption\"\n",
    "property_file = \"property/combined_dummy.csv\"\n",
    "# Instantiate the agent (assuming agentD is previously defined)\n",
    "agent = agentD(\n",
    "    tools, \n",
    "    model=\"gpt-4o\",\n",
    "    prefix=PREFIX, \n",
    "    suffix=SUFFIX\n",
    ").agent\n",
    "# Process the dataset\n",
    "processed_data = process_dataset_with_agent(property_file, protein, objective, agent)\n",
    "processed_data.to_csv(f\"downselection/{objective}_dummy2.csv\", index=False)"
   ]
  },
  {
   "cell_type": "code",
   "execution_count": null,
   "id": "92453235",
   "metadata": {},
   "outputs": [],
   "source": []
  }
 ],
 "metadata": {
  "kernelspec": {
   "display_name": "reinvent4",
   "language": "python",
   "name": "python3"
  },
  "language_info": {
   "codemirror_mode": {
    "name": "ipython",
    "version": 3
   },
   "file_extension": ".py",
   "mimetype": "text/x-python",
   "name": "python",
   "nbconvert_exporter": "python",
   "pygments_lexer": "ipython3",
   "version": "3.10.17"
  }
 },
 "nbformat": 4,
 "nbformat_minor": 5
}
