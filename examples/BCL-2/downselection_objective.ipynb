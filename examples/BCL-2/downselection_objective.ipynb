{
 "cells": [
  {
   "cell_type": "code",
   "execution_count": 1,
   "id": "2591c647",
   "metadata": {},
   "outputs": [
    {
     "name": "stdout",
     "output_type": "stream",
     "text": [
      "Current working directory: /home/hoon/dd-agent/llm_dd/examples/BCL-2\n",
      "Home directory: /home/hoon/dd-agent/llm_dd\n"
     ]
    }
   ],
   "source": [
    "import os, sys\n",
    "cwd = os.getcwd()\n",
    "print(\"Current working directory:\", cwd)\n",
    "home_dir = os.path.dirname(os.path.dirname(cwd))\n",
    "print(\"Home directory:\", home_dir)\n",
    "sys.path.append(home_dir)"
   ]
  },
  {
   "cell_type": "code",
   "execution_count": 2,
   "id": "9558eb23",
   "metadata": {},
   "outputs": [],
   "source": [
    "import json\n",
    "import pandas as pd\n",
    "import warnings\n",
    "warnings.filterwarnings('ignore')\n",
    "from agentD.agents import agentD\n",
    "from agentD.analysis_utils import get_tool_decorated_functions, custom_serializer, rule_based_evaluation\n",
    "from agentD.prompts import FORMAT_INSTRUCTIONS"
   ]
  },
  {
   "cell_type": "code",
   "execution_count": 3,
   "id": "22b0172f",
   "metadata": {},
   "outputs": [],
   "source": [
    "ret_tools = get_tool_decorated_functions(os.path.join(home_dir, \"agentD/tools/retrieval.py\"))\n",
    "#comm_tools = get_tool_decorated_functions(os.path.join(home_dir, \"agentD/tools/common.py\"))\n",
    "lit_tools = get_tool_decorated_functions(os.path.join(home_dir, \"agentD/tools/lit_analysis.py\"))\n",
    "pred_tools = get_tool_decorated_functions(os.path.join(home_dir, \"agentD/tools/prediction.py\"))\n",
    "gen_tools = get_tool_decorated_functions(os.path.join(home_dir, \"agentD/tools/generation.py\"))\n",
    "\n",
    "tools = gen_tools + ret_tools + pred_tools #pred_tools #ret_tools + comm_tools + lit_tools\n",
    "\n",
    "tool_names = [tool.name for tool in tools]  \n",
    "tool_desc = [tool.description for tool in tools]"
   ]
  },
  {
   "cell_type": "markdown",
   "id": "d36c4390",
   "metadata": {},
   "source": [
    "# Objective Downselection"
   ]
  },
  {
   "cell_type": "code",
   "execution_count": 4,
   "id": "3c27558e",
   "metadata": {},
   "outputs": [],
   "source": [
    "PREFIX = \"\"\"You are AgentD, an AI chemist with expertise in molecular property analysis and scoring.\n",
    "\n",
    "Your task is to determine the given molecule as a drug candidate for the specified target protein.\n",
    "Consider that this is an initial screening, so be lenient to keep a wide range of drug-like molecules. \n",
    "Also, you will provide a concise rationale for your assessment.\n",
    "\"\"\"\n",
    "\n",
    "SUFFIX = \"\"\"You MUST adhere strictly to the following protocol to complete the task:\n",
    " \n",
    "1. Identify critical properties relevant to the given screening objective.\n",
    "   - Focus primarily on property interpretations.\n",
    "2. Determine the given molecule as a drug candidate based on the selected properties. (Yes or No)\n",
    "3. Review the validity of the answer.\n",
    "4. Provide a final assessment answer with a rationale.\n",
    "\n",
    "---\n",
    "### Notes:\n",
    "- Start by clearly stating the problem and the planned approach.\n",
    "- Follow the outlined steps systematically without skipping any.\n",
    "- Make sure to start the final answer with \"YES\" or \"NO\" and then provide the rationale. \n",
    "- Be lenient on the assessment, but if there's any critical issue, you should reject the molecule.\n",
    "\n",
    "Now begin your task.\n",
    "\n",
    "Question: {input}\n",
    "Thought: {agent_scratchpad}\n",
    "\"\"\""
   ]
  },
  {
   "cell_type": "code",
   "execution_count": 5,
   "id": "706d10de",
   "metadata": {},
   "outputs": [
    {
     "name": "stderr",
     "output_type": "stream",
     "text": [
      "`embedding_function` is expected to be an Embeddings object, support for passing in a function will soon be removed.\n"
     ]
    }
   ],
   "source": [
    "agent = agentD(tools, \n",
    "               model=\"gpt-4o\",\n",
    "               prefix=PREFIX, \n",
    "               suffix=SUFFIX, \n",
    "               format_instructions=FORMAT_INSTRUCTIONS).agent"
   ]
  },
  {
   "cell_type": "code",
   "execution_count": 6,
   "id": "3ff2fa7f",
   "metadata": {},
   "outputs": [],
   "source": [
    "def process_dataset_with_agent(file_path: str, protein: str, objective: str, agent) -> pd.DataFrame:\n",
    "    \"\"\"\n",
    "    Reads the dataset and applies the LLM-driven analysis to each entry.\n",
    "\n",
    "    Args:\n",
    "        file_path (str): Path to the dataset file.\n",
    "        protein (str): Target protein for drug analysis.\n",
    "        objective (str): Target objective for drug analysis.\n",
    "        agent: The LLM agent object.\n",
    "\n",
    "    Returns:\n",
    "        pd.DataFrame: DataFrame with the original data and LLM assessments.\n",
    "    \"\"\"\n",
    "    # Read dataset\n",
    "    df = pd.read_csv(file_path)\n",
    "\n",
    "    # Prepare list to store output\n",
    "    results = []\n",
    "\n",
    "    # Iterate through each row\n",
    "    for _, row in df.iterrows():\n",
    "        # rule-based evaluation\n",
    "        entry = row.to_dict()\n",
    "        report = rule_based_evaluation(entry)\n",
    "        report.pop('smiles', None)\n",
    "        smiles = row['SMILES']\n",
    "        prompt = (\n",
    "            f\"Determine whether the given molecule is applicable as a potential drug targeting {protein}. \"\n",
    "            f\"The screening objective is good {objective}-related properties. \"\n",
    "            f\"The molecule's properties are: {entry}.\"\n",
    "        )\n",
    "        input_data = {\"input\": prompt}\n",
    "        \n",
    "        try:\n",
    "            response = agent.invoke(input_data)\n",
    "            assessment = response.get('output', 'No response')\n",
    "        except Exception as e:\n",
    "            assessment = f\"Error: {str(e)}\"\n",
    "\n",
    "        results.append({'SMILES': smiles, 'LLM_Assessment': assessment, **report})\n",
    "\n",
    "    # Create and return the new DataFrame\n",
    "    return pd.DataFrame(results)\n"
   ]
  },
  {
   "cell_type": "code",
   "execution_count": 7,
   "id": "f0889340",
   "metadata": {},
   "outputs": [
    {
     "name": "stderr",
     "output_type": "stream",
     "text": [
      "`embedding_function` is expected to be an Embeddings object, support for passing in a function will soon be removed.\n"
     ]
    },
    {
     "name": "stdout",
     "output_type": "stream",
     "text": [
      "\n",
      "\n",
      "\u001b[1m> Entering new AgentExecutor chain...\u001b[0m\n",
      "\u001b[32;1m\u001b[1;3mThe task is to determine if the given molecule is a potential drug candidate targeting BCL-2, focusing on absorption-related properties. I will evaluate the absorption properties and other relevant ADMET characteristics to make an assessment.\n",
      "\n",
      "1. **Absorption Properties:**\n",
      "   - **Caco-2 Permeability:** The prediction is -5.66, which is low, indicating poor intestinal absorption.\n",
      "   - **Human Oral Bioavailability:** Predicted as bioavailable with medium to high confidence.\n",
      "   - **Human Intestinal Absorption:** Predicted as absorbed with high confidence.\n",
      "   - **Madin-Darby Canine Kidney (MDCK) Permeability:** The prediction is -5.29, which is low.\n",
      "   - **P-Glycoprotein (P-gp) Interaction:** The molecule is predicted to be both an inhibitor and a substrate, which could affect absorption and distribution.\n",
      "\n",
      "2. **Distribution Properties:**\n",
      "   - **Blood-Brain Barrier (BBB) Penetration:** Predicted as non-penetrable with high confidence, which is acceptable for non-CNS targets.\n",
      "   - **Plasma Protein Binding:** 78.34%, which is within an acceptable range for drug candidates.\n",
      "\n",
      "3. **Metabolism Properties:**\n",
      "   - The molecule is a non-inhibitor for most CYP enzymes except CYP 2C9, where it is an inhibitor with high confidence. This could affect drug-drug interactions.\n",
      "\n",
      "4. **Excretion Properties:**\n",
      "   - **Clearance:** Predicted as low, which might lead to longer systemic exposure.\n",
      "   - **Half-Life:** Predicted to be less than 3 hours, which is relatively short.\n",
      "\n",
      "5. **Toxicity Properties:**\n",
      "   - The molecule is predicted to be safe for AMES mutagenesis and carcinogenesis.\n",
      "   - It shows potential liver toxicity and respiratory disease risk, which are concerns.\n",
      "\n",
      "6. **General Properties:**\n",
      "   - **Log P:** 1.28, which is within the acceptable range for drug-likeness.\n",
      "   - **Log S:** -3.41, indicating moderate solubility.\n",
      "\n",
      "Overall, the molecule shows some favorable absorption properties, such as human oral bioavailability and intestinal absorption. However, the low Caco-2 and MDCK permeability, along with potential liver toxicity, are concerns. Despite these issues, given the lenient nature of the initial screening, the molecule could still be considered a potential candidate for further optimization.\n",
      "\n",
      "Final Answer: YES. The molecule shows potential as a drug candidate targeting BCL-2, with favorable oral bioavailability and intestinal absorption, despite some concerns with permeability and potential liver toxicity.\u001b[0m\n",
      "\n",
      "\u001b[1m> Finished chain.\u001b[0m\n",
      "\n",
      "\n",
      "\u001b[1m> Entering new AgentExecutor chain...\u001b[0m\n",
      "\u001b[32;1m\u001b[1;3mThe task is to determine if the given molecule is a potential drug candidate targeting BCL-2, focusing on absorption-related properties. Here's the approach:\n",
      "\n",
      "1. **Identify Critical Properties**: Focus on absorption properties such as Caco-2 permeability, human oral bioavailability, intestinal absorption, and P-glycoprotein interactions.\n",
      "\n",
      "2. **Assessment Based on Properties**:\n",
      "   - **Caco-2 Permeability**: The prediction is -5.56, which is low, indicating poor permeability.\n",
      "   - **Human Oral Bioavailability**: The molecule is predicted to be bioavailable with high confidence, which is a positive indicator.\n",
      "   - **Human Intestinal Absorption**: The molecule is predicted to be absorbed with high confidence, which is favorable.\n",
      "   - **P-Glycoprotein Interactions**: The molecule is both an inhibitor and a substrate, which could complicate absorption and distribution.\n",
      "\n",
      "3. **Review Validity**: The molecule shows good oral bioavailability and intestinal absorption, but poor Caco-2 permeability and potential complications due to P-glycoprotein interactions.\n",
      "\n",
      "4. **Final Assessment**: Given the lenient screening criteria, the molecule's good oral bioavailability and intestinal absorption outweigh the poor Caco-2 permeability and P-glycoprotein interactions.\n",
      "\n",
      "'''\n",
      "Thought: Here's your final answer:\n",
      "Final Answer: YES, the molecule is a potential drug candidate for BCL-2 based on its good oral bioavailability and intestinal absorption, despite poor Caco-2 permeability and P-glycoprotein interactions.\n",
      "'''\u001b[0m\n",
      "\n",
      "\u001b[1m> Finished chain.\u001b[0m\n"
     ]
    }
   ],
   "source": [
    "protein = \"BCL-2\"\n",
    "objective = \"absorption\"\n",
    "property_file = \"property/combined_dummy.csv\"\n",
    "# Instantiate the agent (assuming agentD is previously defined)\n",
    "agent = agentD(\n",
    "    tools, \n",
    "    model=\"gpt-4o\",\n",
    "    prefix=PREFIX, \n",
    "    suffix=SUFFIX\n",
    ").agent\n",
    "# Process the dataset\n",
    "processed_data = process_dataset_with_agent(property_file, protein, objective, agent)\n",
    "processed_data.to_csv(\"downselection/objective_dummy.csv\", index=False)"
   ]
  },
  {
   "cell_type": "code",
   "execution_count": null,
   "id": "92453235",
   "metadata": {},
   "outputs": [],
   "source": []
  }
 ],
 "metadata": {
  "kernelspec": {
   "display_name": "reinvent4",
   "language": "python",
   "name": "python3"
  },
  "language_info": {
   "codemirror_mode": {
    "name": "ipython",
    "version": 3
   },
   "file_extension": ".py",
   "mimetype": "text/x-python",
   "name": "python",
   "nbconvert_exporter": "python",
   "pygments_lexer": "ipython3",
   "version": "3.10.17"
  }
 },
 "nbformat": 4,
 "nbformat_minor": 5
}
